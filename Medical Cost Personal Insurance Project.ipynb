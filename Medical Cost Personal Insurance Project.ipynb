{
 "cells": [
  {
   "cell_type": "markdown",
   "id": "275b1223",
   "metadata": {},
   "source": [
    "# "
   ]
  },
  {
   "cell_type": "markdown",
   "id": "adba7fcd",
   "metadata": {},
   "source": [
    "# "
   ]
  },
  {
   "cell_type": "markdown",
   "id": "a9126d1c",
   "metadata": {},
   "source": [
    "# Medical Cost Personal Insurance Project "
   ]
  },
  {
   "cell_type": "markdown",
   "id": "6d4bf9f2",
   "metadata": {},
   "source": [
    "### Project Objective:"
   ]
  },
  {
   "cell_type": "markdown",
   "id": "2275d79c",
   "metadata": {},
   "source": [
    "This project aims to develop a predictive model for accurately estimating health insurance costs. Health insurance is essential for covering medical expenses resulting from illness, including hospitalization, medications, and doctor consultations, ensuring access to quality healthcare without a significant financial burden. Our model will consider input factors such as age, BMI, number of dependents, smoking status, and geographic region to provide precise insurance cost predictions. By doing so, we aim to empower individuals and insurance providers with a reliable tool to better plan for and manage their healthcare expenses."
   ]
  },
  {
   "cell_type": "markdown",
   "id": "e0aee095",
   "metadata": {},
   "source": [
    "# "
   ]
  },
  {
   "cell_type": "markdown",
   "id": "0cb55996",
   "metadata": {},
   "source": [
    "# "
   ]
  },
  {
   "cell_type": "markdown",
   "id": "558d4f72",
   "metadata": {},
   "source": [
    "## Importing Packages"
   ]
  },
  {
   "cell_type": "code",
   "execution_count": 1,
   "id": "7f738aef",
   "metadata": {},
   "outputs": [],
   "source": [
    "import numpy as np\n",
    "import pandas as pd\n",
    "\n",
    "import matplotlib.pyplot as plt     \n",
    "%matplotlib inline\n",
    "import seaborn as sns\n",
    "from pandas.plotting import scatter_matrix\n",
    "\n",
    "import warnings\n",
    "warnings.filterwarnings ('ignore')"
   ]
  },
  {
   "cell_type": "markdown",
   "id": "0b3d85ad",
   "metadata": {},
   "source": [
    "# "
   ]
  },
  {
   "cell_type": "markdown",
   "id": "768b7427",
   "metadata": {},
   "source": [
    "## Importing Dataset"
   ]
  },
  {
   "cell_type": "code",
   "execution_count": 2,
   "id": "e4bbb4ff",
   "metadata": {},
   "outputs": [
    {
     "data": {
      "text/html": [
       "<div>\n",
       "<style scoped>\n",
       "    .dataframe tbody tr th:only-of-type {\n",
       "        vertical-align: middle;\n",
       "    }\n",
       "\n",
       "    .dataframe tbody tr th {\n",
       "        vertical-align: top;\n",
       "    }\n",
       "\n",
       "    .dataframe thead th {\n",
       "        text-align: right;\n",
       "    }\n",
       "</style>\n",
       "<table border=\"1\" class=\"dataframe\">\n",
       "  <thead>\n",
       "    <tr style=\"text-align: right;\">\n",
       "      <th></th>\n",
       "      <th>age</th>\n",
       "      <th>sex</th>\n",
       "      <th>bmi</th>\n",
       "      <th>children</th>\n",
       "      <th>smoker</th>\n",
       "      <th>region</th>\n",
       "      <th>charges</th>\n",
       "    </tr>\n",
       "  </thead>\n",
       "  <tbody>\n",
       "    <tr>\n",
       "      <th>0</th>\n",
       "      <td>19</td>\n",
       "      <td>female</td>\n",
       "      <td>27.900</td>\n",
       "      <td>0</td>\n",
       "      <td>yes</td>\n",
       "      <td>southwest</td>\n",
       "      <td>16884.92400</td>\n",
       "    </tr>\n",
       "    <tr>\n",
       "      <th>1</th>\n",
       "      <td>18</td>\n",
       "      <td>male</td>\n",
       "      <td>33.770</td>\n",
       "      <td>1</td>\n",
       "      <td>no</td>\n",
       "      <td>southeast</td>\n",
       "      <td>1725.55230</td>\n",
       "    </tr>\n",
       "    <tr>\n",
       "      <th>2</th>\n",
       "      <td>28</td>\n",
       "      <td>male</td>\n",
       "      <td>33.000</td>\n",
       "      <td>3</td>\n",
       "      <td>no</td>\n",
       "      <td>southeast</td>\n",
       "      <td>4449.46200</td>\n",
       "    </tr>\n",
       "    <tr>\n",
       "      <th>3</th>\n",
       "      <td>33</td>\n",
       "      <td>male</td>\n",
       "      <td>22.705</td>\n",
       "      <td>0</td>\n",
       "      <td>no</td>\n",
       "      <td>northwest</td>\n",
       "      <td>21984.47061</td>\n",
       "    </tr>\n",
       "    <tr>\n",
       "      <th>4</th>\n",
       "      <td>32</td>\n",
       "      <td>male</td>\n",
       "      <td>28.880</td>\n",
       "      <td>0</td>\n",
       "      <td>no</td>\n",
       "      <td>northwest</td>\n",
       "      <td>3866.85520</td>\n",
       "    </tr>\n",
       "  </tbody>\n",
       "</table>\n",
       "</div>"
      ],
      "text/plain": [
       "   age     sex     bmi  children smoker     region      charges\n",
       "0   19  female  27.900         0    yes  southwest  16884.92400\n",
       "1   18    male  33.770         1     no  southeast   1725.55230\n",
       "2   28    male  33.000         3     no  southeast   4449.46200\n",
       "3   33    male  22.705         0     no  northwest  21984.47061\n",
       "4   32    male  28.880         0     no  northwest   3866.85520"
      ]
     },
     "execution_count": 2,
     "metadata": {},
     "output_type": "execute_result"
    }
   ],
   "source": [
    "data=pd.read_csv(\"Medical.csv\")\n",
    "data.head()"
   ]
  },
  {
   "cell_type": "markdown",
   "id": "c5484dd4",
   "metadata": {},
   "source": [
    "# "
   ]
  },
  {
   "cell_type": "markdown",
   "id": "c69df325",
   "metadata": {},
   "source": [
    "## EDA"
   ]
  },
  {
   "cell_type": "code",
   "execution_count": 3,
   "id": "bf1637d0",
   "metadata": {},
   "outputs": [
    {
     "data": {
      "text/plain": [
       "(1338, 7)"
      ]
     },
     "execution_count": 3,
     "metadata": {},
     "output_type": "execute_result"
    }
   ],
   "source": [
    "data.shape"
   ]
  },
  {
   "cell_type": "code",
   "execution_count": 4,
   "id": "eb223e54",
   "metadata": {},
   "outputs": [
    {
     "data": {
      "text/plain": [
       "(1337, 7)"
      ]
     },
     "execution_count": 4,
     "metadata": {},
     "output_type": "execute_result"
    }
   ],
   "source": [
    "data.drop_duplicates(inplace=True)\n",
    "data.shape"
   ]
  },
  {
   "cell_type": "code",
   "execution_count": 5,
   "id": "0940a460",
   "metadata": {},
   "outputs": [
    {
     "data": {
      "text/plain": [
       "Index(['age', 'sex', 'bmi', 'children', 'smoker', 'region', 'charges'], dtype='object')"
      ]
     },
     "execution_count": 5,
     "metadata": {},
     "output_type": "execute_result"
    }
   ],
   "source": [
    "data.columns"
   ]
  },
  {
   "cell_type": "code",
   "execution_count": 6,
   "id": "83bf9f00",
   "metadata": {},
   "outputs": [
    {
     "data": {
      "text/plain": [
       "age           int64\n",
       "sex          object\n",
       "bmi         float64\n",
       "children      int64\n",
       "smoker       object\n",
       "region       object\n",
       "charges     float64\n",
       "dtype: object"
      ]
     },
     "execution_count": 6,
     "metadata": {},
     "output_type": "execute_result"
    }
   ],
   "source": [
    "data.dtypes"
   ]
  },
  {
   "cell_type": "code",
   "execution_count": 7,
   "id": "cc6e54e5",
   "metadata": {},
   "outputs": [
    {
     "data": {
      "text/plain": [
       "0"
      ]
     },
     "execution_count": 7,
     "metadata": {},
     "output_type": "execute_result"
    }
   ],
   "source": [
    "data.isna().sum().sum()"
   ]
  },
  {
   "cell_type": "markdown",
   "id": "de410473",
   "metadata": {},
   "source": [
    "### Checking Unique values"
   ]
  },
  {
   "cell_type": "code",
   "execution_count": 8,
   "id": "4ba112a9",
   "metadata": {
    "scrolled": true
   },
   "outputs": [
    {
     "name": "stdout",
     "output_type": "stream",
     "text": [
      "Column: age\n",
      "Unique Values: [19 18 28 33 32 31 46 37 60 25 62 23 56 27 52 30 34 59 63 55 22 26 35 24\n",
      " 41 38 36 21 48 40 58 53 43 64 20 61 44 57 29 45 54 49 47 51 42 50 39]\n",
      "\n",
      "\n",
      "Column: sex\n",
      "Unique Values: ['female' 'male']\n",
      "\n",
      "\n",
      "Column: bmi\n",
      "Unique Values: [27.9   33.77  33.    22.705 28.88  25.74  33.44  27.74  29.83  25.84\n",
      " 26.22  26.29  34.4   39.82  42.13  24.6   30.78  23.845 40.3   35.3\n",
      " 36.005 32.4   34.1   31.92  28.025 27.72  23.085 32.775 17.385 36.3\n",
      " 35.6   26.315 28.6   28.31  36.4   20.425 32.965 20.8   36.67  39.9\n",
      " 26.6   36.63  21.78  30.8   37.05  37.3   38.665 34.77  24.53  35.2\n",
      " 35.625 33.63  28.    34.43  28.69  36.955 31.825 31.68  22.88  37.335\n",
      " 27.36  33.66  24.7   25.935 22.42  28.9   39.1   36.19  23.98  24.75\n",
      " 28.5   28.1   32.01  27.4   34.01  29.59  35.53  39.805 26.885 38.285\n",
      " 37.62  41.23  34.8   22.895 31.16  27.2   26.98  39.49  24.795 31.3\n",
      " 38.28  19.95  19.3   31.6   25.46  30.115 29.92  27.5   28.4   30.875\n",
      " 27.94  35.09  29.7   35.72  32.205 28.595 49.06  27.17  23.37  37.1\n",
      " 23.75  28.975 31.35  33.915 28.785 28.3   37.4   17.765 34.7   26.505\n",
      " 22.04  35.9   25.555 28.05  25.175 31.9   36.    32.49  25.3   29.735\n",
      " 38.83  30.495 37.73  37.43  24.13  37.145 39.52  24.42  27.83  36.85\n",
      " 39.6   29.8   29.64  28.215 37.    33.155 18.905 41.47  30.3   15.96\n",
      " 33.345 37.7   27.835 29.2   26.41  30.69  41.895 30.9   32.2   32.11\n",
      " 31.57  26.2   30.59  32.8   18.05  39.33  32.23  24.035 36.08  22.3\n",
      " 26.4   31.8   26.73  23.1   23.21  33.7   33.25  24.64  33.88  38.06\n",
      " 41.91  31.635 36.195 17.8   24.51  22.22  38.39  29.07  22.135 26.8\n",
      " 30.02  35.86  20.9   17.29  34.21  25.365 40.15  24.415 25.2   26.84\n",
      " 24.32  42.35  19.8   32.395 30.2   29.37  34.2   27.455 27.55  20.615\n",
      " 24.3   31.79  21.56  28.12  40.565 27.645 31.2   26.62  48.07  36.765\n",
      " 33.4   45.54  28.82  22.99  27.7   25.41  34.39  22.61  37.51  38.\n",
      " 33.33  34.865 33.06  35.97  31.4   25.27  40.945 34.105 36.48  33.8\n",
      " 36.7   36.385 34.5   32.3   27.6   29.26  35.75  23.18  25.6   35.245\n",
      " 43.89  20.79  30.5   21.7   21.89  24.985 32.015 30.4   21.09  22.23\n",
      " 32.9   24.89  31.46  17.955 30.685 43.34  39.05  30.21  31.445 19.855\n",
      " 31.02  38.17  20.6   47.52  20.4   38.38  24.31  23.6   21.12  30.03\n",
      " 17.48  20.235 17.195 23.9   35.15  35.64  22.6   39.16  27.265 29.165\n",
      " 16.815 33.1   26.9   33.11  31.73  46.75  29.45  32.68  33.5   43.01\n",
      " 36.52  26.695 25.65  29.6   38.6   23.4   46.53  30.14  30.    38.095\n",
      " 28.38  28.7   33.82  24.09  32.67  25.1   32.56  41.325 39.5   34.3\n",
      " 31.065 21.47  25.08  43.4   25.7   27.93  39.2   26.03  30.25  28.93\n",
      " 35.7   35.31  31.    44.22  26.07  25.8   39.425 40.48  38.9   47.41\n",
      " 35.435 46.7   46.2   21.4   23.8   44.77  32.12  29.1   37.29  43.12\n",
      " 36.86  34.295 23.465 45.43  23.65  20.7   28.27  35.91  29.    19.57\n",
      " 31.13  21.85  40.26  33.725 29.48  32.6   37.525 23.655 37.8   19.\n",
      " 21.3   33.535 42.46  38.95  36.1   29.3   39.7   38.19  42.4   34.96\n",
      " 42.68  31.54  29.81  21.375 40.81  17.4   20.3   18.5   26.125 41.69\n",
      " 24.1   36.2   40.185 39.27  34.87  44.745 29.545 23.54  40.47  40.66\n",
      " 36.6   35.4   27.075 28.405 21.755 40.28  30.1   32.1   23.7   35.5\n",
      " 29.15  27.    37.905 22.77  22.8   34.58  27.1   19.475 26.7   34.32\n",
      " 24.4   41.14  22.515 41.8   26.18  42.24  26.51  35.815 41.42  36.575\n",
      " 42.94  21.01  24.225 17.67  31.5   31.1   32.78  32.45  50.38  47.6\n",
      " 25.4   29.9   43.7   24.86  28.8   29.5   29.04  38.94  44.    20.045\n",
      " 40.92  35.1   29.355 32.585 32.34  39.8   24.605 33.99  28.2   25.\n",
      " 33.2   23.2   20.1   32.5   37.18  46.09  39.93  35.8   31.255 18.335\n",
      " 42.9   26.79  39.615 25.9   25.745 28.16  23.56  40.5   35.42  39.995\n",
      " 34.675 20.52  23.275 36.29  32.7   19.19  20.13  23.32  45.32  34.6\n",
      " 18.715 21.565 23.    37.07  52.58  42.655 21.66  32.    18.3   47.74\n",
      " 22.1   19.095 31.24  29.925 20.35  25.85  42.75  18.6   23.87  45.9\n",
      " 21.5   30.305 44.88  41.1   40.37  28.49  33.55  40.375 27.28  17.86\n",
      " 33.3   39.14  21.945 24.97  23.94  34.485 21.8   23.3   36.96  21.28\n",
      " 29.4   27.3   37.9   37.715 23.76  25.52  27.61  27.06  39.4   34.9\n",
      " 22.    30.36  27.8   53.13  39.71  32.87  44.7   30.97 ]\n",
      "\n",
      "\n",
      "Column: children\n",
      "Unique Values: [0 1 3 2 5 4]\n",
      "\n",
      "\n",
      "Column: smoker\n",
      "Unique Values: ['yes' 'no']\n",
      "\n",
      "\n",
      "Column: region\n",
      "Unique Values: ['southwest' 'southeast' 'northwest' 'northeast']\n",
      "\n",
      "\n",
      "Column: charges\n",
      "Unique Values: [16884.924   1725.5523  4449.462  ...  1629.8335  2007.945  29141.3603]\n",
      "\n",
      "\n"
     ]
    }
   ],
   "source": [
    "for column in data.columns:\n",
    "    unique_values = data[column].unique()\n",
    "    print(f\"Column: {column}\")\n",
    "    print(f\"Unique Values: {unique_values}\")\n",
    "    print('\\n')"
   ]
  },
  {
   "cell_type": "markdown",
   "id": "768d6acf",
   "metadata": {},
   "source": [
    "# "
   ]
  },
  {
   "cell_type": "markdown",
   "id": "3fc310be",
   "metadata": {},
   "source": [
    "## Encoding"
   ]
  },
  {
   "cell_type": "code",
   "execution_count": 9,
   "id": "04286d64",
   "metadata": {},
   "outputs": [
    {
     "data": {
      "text/html": [
       "<div>\n",
       "<style scoped>\n",
       "    .dataframe tbody tr th:only-of-type {\n",
       "        vertical-align: middle;\n",
       "    }\n",
       "\n",
       "    .dataframe tbody tr th {\n",
       "        vertical-align: top;\n",
       "    }\n",
       "\n",
       "    .dataframe thead th {\n",
       "        text-align: right;\n",
       "    }\n",
       "</style>\n",
       "<table border=\"1\" class=\"dataframe\">\n",
       "  <thead>\n",
       "    <tr style=\"text-align: right;\">\n",
       "      <th></th>\n",
       "      <th>age</th>\n",
       "      <th>sex</th>\n",
       "      <th>bmi</th>\n",
       "      <th>children</th>\n",
       "      <th>smoker</th>\n",
       "      <th>region</th>\n",
       "      <th>charges</th>\n",
       "    </tr>\n",
       "  </thead>\n",
       "  <tbody>\n",
       "    <tr>\n",
       "      <th>0</th>\n",
       "      <td>19</td>\n",
       "      <td>female</td>\n",
       "      <td>27.900</td>\n",
       "      <td>0</td>\n",
       "      <td>yes</td>\n",
       "      <td>southwest</td>\n",
       "      <td>16884.92400</td>\n",
       "    </tr>\n",
       "    <tr>\n",
       "      <th>1</th>\n",
       "      <td>18</td>\n",
       "      <td>male</td>\n",
       "      <td>33.770</td>\n",
       "      <td>1</td>\n",
       "      <td>no</td>\n",
       "      <td>southeast</td>\n",
       "      <td>1725.55230</td>\n",
       "    </tr>\n",
       "    <tr>\n",
       "      <th>2</th>\n",
       "      <td>28</td>\n",
       "      <td>male</td>\n",
       "      <td>33.000</td>\n",
       "      <td>3</td>\n",
       "      <td>no</td>\n",
       "      <td>southeast</td>\n",
       "      <td>4449.46200</td>\n",
       "    </tr>\n",
       "    <tr>\n",
       "      <th>3</th>\n",
       "      <td>33</td>\n",
       "      <td>male</td>\n",
       "      <td>22.705</td>\n",
       "      <td>0</td>\n",
       "      <td>no</td>\n",
       "      <td>northwest</td>\n",
       "      <td>21984.47061</td>\n",
       "    </tr>\n",
       "    <tr>\n",
       "      <th>4</th>\n",
       "      <td>32</td>\n",
       "      <td>male</td>\n",
       "      <td>28.880</td>\n",
       "      <td>0</td>\n",
       "      <td>no</td>\n",
       "      <td>northwest</td>\n",
       "      <td>3866.85520</td>\n",
       "    </tr>\n",
       "  </tbody>\n",
       "</table>\n",
       "</div>"
      ],
      "text/plain": [
       "   age     sex     bmi  children smoker     region      charges\n",
       "0   19  female  27.900         0    yes  southwest  16884.92400\n",
       "1   18    male  33.770         1     no  southeast   1725.55230\n",
       "2   28    male  33.000         3     no  southeast   4449.46200\n",
       "3   33    male  22.705         0     no  northwest  21984.47061\n",
       "4   32    male  28.880         0     no  northwest   3866.85520"
      ]
     },
     "execution_count": 9,
     "metadata": {},
     "output_type": "execute_result"
    }
   ],
   "source": [
    "dt=data.copy()\n",
    "dt.head()"
   ]
  },
  {
   "cell_type": "code",
   "execution_count": 10,
   "id": "3325a6d5",
   "metadata": {},
   "outputs": [
    {
     "data": {
      "text/html": [
       "<div>\n",
       "<style scoped>\n",
       "    .dataframe tbody tr th:only-of-type {\n",
       "        vertical-align: middle;\n",
       "    }\n",
       "\n",
       "    .dataframe tbody tr th {\n",
       "        vertical-align: top;\n",
       "    }\n",
       "\n",
       "    .dataframe thead th {\n",
       "        text-align: right;\n",
       "    }\n",
       "</style>\n",
       "<table border=\"1\" class=\"dataframe\">\n",
       "  <thead>\n",
       "    <tr style=\"text-align: right;\">\n",
       "      <th></th>\n",
       "      <th>sex</th>\n",
       "      <th>smoker</th>\n",
       "      <th>region</th>\n",
       "    </tr>\n",
       "  </thead>\n",
       "  <tbody>\n",
       "    <tr>\n",
       "      <th>0</th>\n",
       "      <td>female</td>\n",
       "      <td>yes</td>\n",
       "      <td>southwest</td>\n",
       "    </tr>\n",
       "    <tr>\n",
       "      <th>1</th>\n",
       "      <td>male</td>\n",
       "      <td>no</td>\n",
       "      <td>southeast</td>\n",
       "    </tr>\n",
       "    <tr>\n",
       "      <th>2</th>\n",
       "      <td>male</td>\n",
       "      <td>no</td>\n",
       "      <td>southeast</td>\n",
       "    </tr>\n",
       "    <tr>\n",
       "      <th>3</th>\n",
       "      <td>male</td>\n",
       "      <td>no</td>\n",
       "      <td>northwest</td>\n",
       "    </tr>\n",
       "    <tr>\n",
       "      <th>4</th>\n",
       "      <td>male</td>\n",
       "      <td>no</td>\n",
       "      <td>northwest</td>\n",
       "    </tr>\n",
       "  </tbody>\n",
       "</table>\n",
       "</div>"
      ],
      "text/plain": [
       "      sex smoker     region\n",
       "0  female    yes  southwest\n",
       "1    male     no  southeast\n",
       "2    male     no  southeast\n",
       "3    male     no  northwest\n",
       "4    male     no  northwest"
      ]
     },
     "execution_count": 10,
     "metadata": {},
     "output_type": "execute_result"
    }
   ],
   "source": [
    "categorical_dt = dt.select_dtypes(include=['object', 'category']).copy()\n",
    "categorical_dt.head()"
   ]
  },
  {
   "cell_type": "code",
   "execution_count": 11,
   "id": "87f5d705",
   "metadata": {},
   "outputs": [
    {
     "name": "stdout",
     "output_type": "stream",
     "text": [
      "Column: sex\n",
      "Unique Values: male      675\n",
      "female    662\n",
      "Name: sex, dtype: int64\n",
      "\n",
      "\n",
      "Column: smoker\n",
      "Unique Values: no     1063\n",
      "yes     274\n",
      "Name: smoker, dtype: int64\n",
      "\n",
      "\n",
      "Column: region\n",
      "Unique Values: southeast    364\n",
      "southwest    325\n",
      "northwest    324\n",
      "northeast    324\n",
      "Name: region, dtype: int64\n",
      "\n",
      "\n"
     ]
    }
   ],
   "source": [
    "for column in categorical_dt.columns:\n",
    "    value_count = dt[column].value_counts()\n",
    "    print(f\"Column: {column}\")\n",
    "    print(f\"Unique Values: {value_count}\")\n",
    "    print('\\n')"
   ]
  },
  {
   "cell_type": "code",
   "execution_count": 12,
   "id": "02fb4591",
   "metadata": {},
   "outputs": [],
   "source": [
    "from sklearn.preprocessing import LabelEncoder\n",
    "le = LabelEncoder()"
   ]
  },
  {
   "cell_type": "code",
   "execution_count": 13,
   "id": "073bf257",
   "metadata": {},
   "outputs": [],
   "source": [
    "encode_columns = dt.select_dtypes(include=['object'])\n",
    "for column in encode_columns:\n",
    "    dt[column] = le.fit_transform(dt[column])"
   ]
  },
  {
   "cell_type": "code",
   "execution_count": 14,
   "id": "dfc42782",
   "metadata": {},
   "outputs": [
    {
     "name": "stdout",
     "output_type": "stream",
     "text": [
      "Column: sex\n",
      "Unique Values: 1    675\n",
      "0    662\n",
      "Name: sex, dtype: int64\n",
      "\n",
      "\n",
      "Column: smoker\n",
      "Unique Values: 0    1063\n",
      "1     274\n",
      "Name: smoker, dtype: int64\n",
      "\n",
      "\n",
      "Column: region\n",
      "Unique Values: 2    364\n",
      "3    325\n",
      "1    324\n",
      "0    324\n",
      "Name: region, dtype: int64\n",
      "\n",
      "\n"
     ]
    }
   ],
   "source": [
    "for column in categorical_dt.columns:\n",
    "    value_count = dt[column].value_counts()\n",
    "    print(f\"Column: {column}\")\n",
    "    print(f\"Unique Values: {value_count}\")\n",
    "    print('\\n')"
   ]
  },
  {
   "cell_type": "markdown",
   "id": "7cd7aaa7",
   "metadata": {},
   "source": [
    "# "
   ]
  },
  {
   "cell_type": "markdown",
   "id": "ded85e50",
   "metadata": {},
   "source": [
    "## Checking Distribution"
   ]
  },
  {
   "cell_type": "markdown",
   "id": "04ea75b8",
   "metadata": {},
   "source": [
    "### Selecting Continuous features"
   ]
  },
  {
   "cell_type": "code",
   "execution_count": 15,
   "id": "c22e9934",
   "metadata": {},
   "outputs": [
    {
     "data": {
      "text/html": [
       "<div>\n",
       "<style scoped>\n",
       "    .dataframe tbody tr th:only-of-type {\n",
       "        vertical-align: middle;\n",
       "    }\n",
       "\n",
       "    .dataframe tbody tr th {\n",
       "        vertical-align: top;\n",
       "    }\n",
       "\n",
       "    .dataframe thead th {\n",
       "        text-align: right;\n",
       "    }\n",
       "</style>\n",
       "<table border=\"1\" class=\"dataframe\">\n",
       "  <thead>\n",
       "    <tr style=\"text-align: right;\">\n",
       "      <th></th>\n",
       "      <th>age</th>\n",
       "      <th>bmi</th>\n",
       "      <th>children</th>\n",
       "      <th>charges</th>\n",
       "    </tr>\n",
       "  </thead>\n",
       "  <tbody>\n",
       "    <tr>\n",
       "      <th>0</th>\n",
       "      <td>19</td>\n",
       "      <td>27.900</td>\n",
       "      <td>0</td>\n",
       "      <td>16884.92400</td>\n",
       "    </tr>\n",
       "    <tr>\n",
       "      <th>1</th>\n",
       "      <td>18</td>\n",
       "      <td>33.770</td>\n",
       "      <td>1</td>\n",
       "      <td>1725.55230</td>\n",
       "    </tr>\n",
       "    <tr>\n",
       "      <th>2</th>\n",
       "      <td>28</td>\n",
       "      <td>33.000</td>\n",
       "      <td>3</td>\n",
       "      <td>4449.46200</td>\n",
       "    </tr>\n",
       "    <tr>\n",
       "      <th>3</th>\n",
       "      <td>33</td>\n",
       "      <td>22.705</td>\n",
       "      <td>0</td>\n",
       "      <td>21984.47061</td>\n",
       "    </tr>\n",
       "    <tr>\n",
       "      <th>4</th>\n",
       "      <td>32</td>\n",
       "      <td>28.880</td>\n",
       "      <td>0</td>\n",
       "      <td>3866.85520</td>\n",
       "    </tr>\n",
       "  </tbody>\n",
       "</table>\n",
       "</div>"
      ],
      "text/plain": [
       "   age     bmi  children      charges\n",
       "0   19  27.900         0  16884.92400\n",
       "1   18  33.770         1   1725.55230\n",
       "2   28  33.000         3   4449.46200\n",
       "3   33  22.705         0  21984.47061\n",
       "4   32  28.880         0   3866.85520"
      ]
     },
     "execution_count": 15,
     "metadata": {},
     "output_type": "execute_result"
    }
   ],
   "source": [
    "continuous_dt = data.select_dtypes(include=['int64','float64']).copy()\n",
    "continuous_dt.head()"
   ]
  },
  {
   "cell_type": "markdown",
   "id": "2f062b41",
   "metadata": {},
   "source": [
    "### Plotting Subplot"
   ]
  },
  {
   "cell_type": "code",
   "execution_count": 16,
   "id": "72cbe20f",
   "metadata": {},
   "outputs": [],
   "source": [
    "y = dt['charges']                            \n",
    "x = dt.drop(columns = ['charges'])"
   ]
  },
  {
   "cell_type": "code",
   "execution_count": 17,
   "id": "ca6c4585",
   "metadata": {},
   "outputs": [
    {
     "data": {
      "image/png": "[encoded data removed]",
      "text/plain": [
       "<Figure size 1500x1000 with 3 Axes>"
      ]
     },
     "metadata": {},
     "output_type": "display_data"
    }
   ],
   "source": [
    "df = continuous_dt.drop(columns=['charges'])\n",
    "\n",
    "plt.figure(figsize=(15,10), facecolor='yellow')\n",
    "plotnumber = 1\n",
    "\n",
    "for column in df:\n",
    "    if plotnumber<=8 :        \n",
    "        ax = plt.subplot(2,4,plotnumber)     \n",
    "        plt.scatter(x[column],y)            \n",
    "        plt.xlabel(column, fontsize=10)           \n",
    "        plt.ylabel('charges', fontsize=10)        \n",
    "        \n",
    "    plotnumber+=1     \n",
    "plt.tight_layout()      "
   ]
  },
  {
   "cell_type": "markdown",
   "id": "abc2bf9c",
   "metadata": {},
   "source": [
    "##### If we see graph, column 'bmi' has no clear relation with column 'charges'. But absence of this features is reducing accuracy, hence we are keeping it."
   ]
  },
  {
   "cell_type": "markdown",
   "id": "792de917",
   "metadata": {},
   "source": [
    "# "
   ]
  },
  {
   "cell_type": "markdown",
   "id": "22867def",
   "metadata": {},
   "source": [
    "# "
   ]
  },
  {
   "cell_type": "markdown",
   "id": "7b2bef08",
   "metadata": {},
   "source": [
    "## Feature Selection"
   ]
  },
  {
   "cell_type": "code",
   "execution_count": 18,
   "id": "77f59700",
   "metadata": {},
   "outputs": [
    {
     "data": {
      "text/plain": [
       "Index(['age', 'sex', 'bmi', 'children', 'smoker', 'region', 'charges'], dtype='object')"
      ]
     },
     "execution_count": 18,
     "metadata": {},
     "output_type": "execute_result"
    }
   ],
   "source": [
    "dt.columns"
   ]
  },
  {
   "cell_type": "code",
   "execution_count": 19,
   "id": "48c33bc2",
   "metadata": {},
   "outputs": [
    {
     "data": {
      "text/plain": [
       "(1337, 7)"
      ]
     },
     "execution_count": 19,
     "metadata": {},
     "output_type": "execute_result"
    }
   ],
   "source": [
    "dt.shape"
   ]
  },
  {
   "cell_type": "markdown",
   "id": "105cdd51",
   "metadata": {},
   "source": [
    "#### Checking Importance"
   ]
  },
  {
   "cell_type": "code",
   "execution_count": 20,
   "id": "4cc54834",
   "metadata": {},
   "outputs": [],
   "source": [
    "from sklearn.feature_selection import SelectKBest, chi2"
   ]
  },
  {
   "cell_type": "code",
   "execution_count": 21,
   "id": "6cf2ea01",
   "metadata": {},
   "outputs": [],
   "source": [
    "x = dt.drop(columns = ['charges'])\n",
    "y = dt['charges']"
   ]
  },
  {
   "cell_type": "code",
   "execution_count": 22,
   "id": "ff14e3e5",
   "metadata": {},
   "outputs": [
    {
     "name": "stdout",
     "output_type": "stream",
     "text": [
      "Score:0.9764891789721292\n"
     ]
    }
   ],
   "source": [
    "from sklearn.ensemble import RandomForestRegressor\n",
    "\n",
    "rf_model = RandomForestRegressor(random_state = 24)\n",
    "rf_model.fit(x,y)\n",
    "print(f\"Score:{rf_model.score(x,y)}\")"
   ]
  },
  {
   "cell_type": "code",
   "execution_count": 23,
   "id": "13a1850a",
   "metadata": {},
   "outputs": [
    {
     "data": {
      "text/html": [
       "<div>\n",
       "<style scoped>\n",
       "    .dataframe tbody tr th:only-of-type {\n",
       "        vertical-align: middle;\n",
       "    }\n",
       "\n",
       "    .dataframe tbody tr th {\n",
       "        vertical-align: top;\n",
       "    }\n",
       "\n",
       "    .dataframe thead th {\n",
       "        text-align: right;\n",
       "    }\n",
       "</style>\n",
       "<table border=\"1\" class=\"dataframe\">\n",
       "  <thead>\n",
       "    <tr style=\"text-align: right;\">\n",
       "      <th></th>\n",
       "      <th>feature</th>\n",
       "      <th>importance</th>\n",
       "    </tr>\n",
       "  </thead>\n",
       "  <tbody>\n",
       "    <tr>\n",
       "      <th>0</th>\n",
       "      <td>sex</td>\n",
       "      <td>0.006213</td>\n",
       "    </tr>\n",
       "    <tr>\n",
       "      <th>1</th>\n",
       "      <td>region</td>\n",
       "      <td>0.013407</td>\n",
       "    </tr>\n",
       "    <tr>\n",
       "      <th>2</th>\n",
       "      <td>children</td>\n",
       "      <td>0.018733</td>\n",
       "    </tr>\n",
       "    <tr>\n",
       "      <th>3</th>\n",
       "      <td>age</td>\n",
       "      <td>0.128734</td>\n",
       "    </tr>\n",
       "    <tr>\n",
       "      <th>4</th>\n",
       "      <td>bmi</td>\n",
       "      <td>0.211259</td>\n",
       "    </tr>\n",
       "    <tr>\n",
       "      <th>5</th>\n",
       "      <td>smoker</td>\n",
       "      <td>0.621653</td>\n",
       "    </tr>\n",
       "  </tbody>\n",
       "</table>\n",
       "</div>"
      ],
      "text/plain": [
       "    feature  importance\n",
       "0       sex    0.006213\n",
       "1    region    0.013407\n",
       "2  children    0.018733\n",
       "3       age    0.128734\n",
       "4       bmi    0.211259\n",
       "5    smoker    0.621653"
      ]
     },
     "execution_count": 23,
     "metadata": {},
     "output_type": "execute_result"
    }
   ],
   "source": [
    "pd.DataFrame(\n",
    "    zip(x.columns, abs(rf_model.feature_importances_)),\n",
    "    columns=[\"feature\", \"importance\"],\n",
    ").sort_values(\"importance\").reset_index(drop=True)"
   ]
  },
  {
   "cell_type": "markdown",
   "id": "c193a468",
   "metadata": {},
   "source": [
    "##### Keeping all features"
   ]
  },
  {
   "cell_type": "markdown",
   "id": "67feae28",
   "metadata": {},
   "source": [
    "# "
   ]
  },
  {
   "cell_type": "markdown",
   "id": "830be095",
   "metadata": {},
   "source": [
    "# "
   ]
  },
  {
   "cell_type": "markdown",
   "id": "55c5d5c6",
   "metadata": {},
   "source": [
    "## Checking Multi-colinearity"
   ]
  },
  {
   "cell_type": "code",
   "execution_count": 24,
   "id": "c311c72a",
   "metadata": {},
   "outputs": [
    {
     "data": {
      "text/html": [
       "<div>\n",
       "<style scoped>\n",
       "    .dataframe tbody tr th:only-of-type {\n",
       "        vertical-align: middle;\n",
       "    }\n",
       "\n",
       "    .dataframe tbody tr th {\n",
       "        vertical-align: top;\n",
       "    }\n",
       "\n",
       "    .dataframe thead th {\n",
       "        text-align: right;\n",
       "    }\n",
       "</style>\n",
       "<table border=\"1\" class=\"dataframe\">\n",
       "  <thead>\n",
       "    <tr style=\"text-align: right;\">\n",
       "      <th></th>\n",
       "      <th>age</th>\n",
       "      <th>sex</th>\n",
       "      <th>bmi</th>\n",
       "      <th>children</th>\n",
       "      <th>smoker</th>\n",
       "      <th>region</th>\n",
       "      <th>charges</th>\n",
       "    </tr>\n",
       "  </thead>\n",
       "  <tbody>\n",
       "    <tr>\n",
       "      <th>age</th>\n",
       "      <td>1.000000</td>\n",
       "      <td>-0.019814</td>\n",
       "      <td>0.109344</td>\n",
       "      <td>0.041536</td>\n",
       "      <td>-0.025587</td>\n",
       "      <td>0.001626</td>\n",
       "      <td>0.298308</td>\n",
       "    </tr>\n",
       "    <tr>\n",
       "      <th>sex</th>\n",
       "      <td>-0.019814</td>\n",
       "      <td>1.000000</td>\n",
       "      <td>0.046397</td>\n",
       "      <td>0.017848</td>\n",
       "      <td>0.076596</td>\n",
       "      <td>0.004936</td>\n",
       "      <td>0.058044</td>\n",
       "    </tr>\n",
       "    <tr>\n",
       "      <th>bmi</th>\n",
       "      <td>0.109344</td>\n",
       "      <td>0.046397</td>\n",
       "      <td>1.000000</td>\n",
       "      <td>0.012755</td>\n",
       "      <td>0.003746</td>\n",
       "      <td>0.157574</td>\n",
       "      <td>0.198401</td>\n",
       "    </tr>\n",
       "    <tr>\n",
       "      <th>children</th>\n",
       "      <td>0.041536</td>\n",
       "      <td>0.017848</td>\n",
       "      <td>0.012755</td>\n",
       "      <td>1.000000</td>\n",
       "      <td>0.007331</td>\n",
       "      <td>0.016258</td>\n",
       "      <td>0.067389</td>\n",
       "    </tr>\n",
       "    <tr>\n",
       "      <th>smoker</th>\n",
       "      <td>-0.025587</td>\n",
       "      <td>0.076596</td>\n",
       "      <td>0.003746</td>\n",
       "      <td>0.007331</td>\n",
       "      <td>1.000000</td>\n",
       "      <td>-0.002358</td>\n",
       "      <td>0.787234</td>\n",
       "    </tr>\n",
       "    <tr>\n",
       "      <th>region</th>\n",
       "      <td>0.001626</td>\n",
       "      <td>0.004936</td>\n",
       "      <td>0.157574</td>\n",
       "      <td>0.016258</td>\n",
       "      <td>-0.002358</td>\n",
       "      <td>1.000000</td>\n",
       "      <td>-0.006547</td>\n",
       "    </tr>\n",
       "    <tr>\n",
       "      <th>charges</th>\n",
       "      <td>0.298308</td>\n",
       "      <td>0.058044</td>\n",
       "      <td>0.198401</td>\n",
       "      <td>0.067389</td>\n",
       "      <td>0.787234</td>\n",
       "      <td>-0.006547</td>\n",
       "      <td>1.000000</td>\n",
       "    </tr>\n",
       "  </tbody>\n",
       "</table>\n",
       "</div>"
      ],
      "text/plain": [
       "               age       sex       bmi  children    smoker    region   charges\n",
       "age       1.000000 -0.019814  0.109344  0.041536 -0.025587  0.001626  0.298308\n",
       "sex      -0.019814  1.000000  0.046397  0.017848  0.076596  0.004936  0.058044\n",
       "bmi       0.109344  0.046397  1.000000  0.012755  0.003746  0.157574  0.198401\n",
       "children  0.041536  0.017848  0.012755  1.000000  0.007331  0.016258  0.067389\n",
       "smoker   -0.025587  0.076596  0.003746  0.007331  1.000000 -0.002358  0.787234\n",
       "region    0.001626  0.004936  0.157574  0.016258 -0.002358  1.000000 -0.006547\n",
       "charges   0.298308  0.058044  0.198401  0.067389  0.787234 -0.006547  1.000000"
      ]
     },
     "execution_count": 24,
     "metadata": {},
     "output_type": "execute_result"
    }
   ],
   "source": [
    "corr = dt.corr()\n",
    "corr"
   ]
  },
  {
   "cell_type": "code",
   "execution_count": 25,
   "id": "8979b47e",
   "metadata": {},
   "outputs": [
    {
     "data": {
      "text/html": [
       "<div>\n",
       "<style scoped>\n",
       "    .dataframe tbody tr th:only-of-type {\n",
       "        vertical-align: middle;\n",
       "    }\n",
       "\n",
       "    .dataframe tbody tr th {\n",
       "        vertical-align: top;\n",
       "    }\n",
       "\n",
       "    .dataframe thead th {\n",
       "        text-align: right;\n",
       "    }\n",
       "</style>\n",
       "<table border=\"1\" class=\"dataframe\">\n",
       "  <thead>\n",
       "    <tr style=\"text-align: right;\">\n",
       "      <th></th>\n",
       "      <th>VIF Scores</th>\n",
       "      <th>variables</th>\n",
       "    </tr>\n",
       "  </thead>\n",
       "  <tbody>\n",
       "    <tr>\n",
       "      <th>0</th>\n",
       "      <td>7.558005</td>\n",
       "      <td>age</td>\n",
       "    </tr>\n",
       "    <tr>\n",
       "      <th>1</th>\n",
       "      <td>2.000028</td>\n",
       "      <td>sex</td>\n",
       "    </tr>\n",
       "    <tr>\n",
       "      <th>2</th>\n",
       "      <td>10.378567</td>\n",
       "      <td>bmi</td>\n",
       "    </tr>\n",
       "    <tr>\n",
       "      <th>3</th>\n",
       "      <td>1.802019</td>\n",
       "      <td>children</td>\n",
       "    </tr>\n",
       "    <tr>\n",
       "      <th>4</th>\n",
       "      <td>1.257118</td>\n",
       "      <td>smoker</td>\n",
       "    </tr>\n",
       "    <tr>\n",
       "      <th>5</th>\n",
       "      <td>2.924245</td>\n",
       "      <td>region</td>\n",
       "    </tr>\n",
       "  </tbody>\n",
       "</table>\n",
       "</div>"
      ],
      "text/plain": [
       "   VIF Scores variables\n",
       "0    7.558005       age\n",
       "1    2.000028       sex\n",
       "2   10.378567       bmi\n",
       "3    1.802019  children\n",
       "4    1.257118    smoker\n",
       "5    2.924245    region"
      ]
     },
     "execution_count": 25,
     "metadata": {},
     "output_type": "execute_result"
    }
   ],
   "source": [
    "vif = pd.DataFrame()\n",
    "\n",
    "from statsmodels.stats.outliers_influence import variance_inflation_factor\n",
    "\n",
    "vif[\"VIF Scores\"] = [variance_inflation_factor (x.values, i) for i in range(x.shape[1])]\n",
    "vif[\"variables\"] = x.columns\n",
    "vif"
   ]
  },
  {
   "cell_type": "code",
   "execution_count": 26,
   "id": "db6fa4cb",
   "metadata": {},
   "outputs": [
    {
     "data": {
      "image/png": "[encoded data removed]",
      "text/plain": [
       "<Figure size 1200x800 with 2 Axes>"
      ]
     },
     "metadata": {},
     "output_type": "display_data"
    }
   ],
   "source": [
    "import seaborn as sns\n",
    "import matplotlib.pyplot as plt\n",
    "\n",
    "dt_corr = dt.corr().abs ()\n",
    "\n",
    "plt.figure(figsize=(12, 8))\n",
    "sns.heatmap(dt_corr, annot=True, annot_kws={'size' :10}, linewidths=0.1,linecolor=\"white\", fmt=\"0.2f\")\n",
    "plt.show()"
   ]
  },
  {
   "cell_type": "code",
   "execution_count": 27,
   "id": "ceb31f8e",
   "metadata": {},
   "outputs": [
    {
     "data": {
      "image/png": "[encoded data removed]",
      "text/plain": [
       "<Figure size 2200x700 with 1 Axes>"
      ]
     },
     "metadata": {},
     "output_type": "display_data"
    }
   ],
   "source": [
    "plt.figure(figsize=(22,7))\n",
    "dt.corr()['charges'].sort_values (ascending=False).drop(['charges']). plot (kind='bar', color='c', fontsize=18)\n",
    "plt.ylabel('Correlation with feature columns', fontsize=16)\n",
    "plt.title('Correlation', fontsize=25)\n",
    "\n",
    "plt.grid(axis='y', linestyle='--', alpha=1, linewidth=1, which='both')\n",
    "\n",
    "plt.show()"
   ]
  },
  {
   "cell_type": "markdown",
   "id": "689b6740",
   "metadata": {},
   "source": [
    "##### No multi-colinearity found"
   ]
  },
  {
   "cell_type": "markdown",
   "id": "e9b3c0ae",
   "metadata": {},
   "source": [
    "# "
   ]
  },
  {
   "cell_type": "markdown",
   "id": "0b08b316",
   "metadata": {},
   "source": [
    "# "
   ]
  },
  {
   "cell_type": "markdown",
   "id": "3a6a5223",
   "metadata": {},
   "source": [
    "## Removing Outliners from Continuous data"
   ]
  },
  {
   "cell_type": "code",
   "execution_count": 28,
   "id": "5f5e156c",
   "metadata": {},
   "outputs": [
    {
     "data": {
      "text/html": [
       "<div>\n",
       "<style scoped>\n",
       "    .dataframe tbody tr th:only-of-type {\n",
       "        vertical-align: middle;\n",
       "    }\n",
       "\n",
       "    .dataframe tbody tr th {\n",
       "        vertical-align: top;\n",
       "    }\n",
       "\n",
       "    .dataframe thead th {\n",
       "        text-align: right;\n",
       "    }\n",
       "</style>\n",
       "<table border=\"1\" class=\"dataframe\">\n",
       "  <thead>\n",
       "    <tr style=\"text-align: right;\">\n",
       "      <th></th>\n",
       "      <th>age</th>\n",
       "      <th>sex</th>\n",
       "      <th>bmi</th>\n",
       "      <th>children</th>\n",
       "      <th>smoker</th>\n",
       "      <th>region</th>\n",
       "      <th>charges</th>\n",
       "    </tr>\n",
       "  </thead>\n",
       "  <tbody>\n",
       "    <tr>\n",
       "      <th>count</th>\n",
       "      <td>1337.000000</td>\n",
       "      <td>1337.000000</td>\n",
       "      <td>1337.000000</td>\n",
       "      <td>1337.000000</td>\n",
       "      <td>1337.000000</td>\n",
       "      <td>1337.000000</td>\n",
       "      <td>1337.000000</td>\n",
       "    </tr>\n",
       "    <tr>\n",
       "      <th>mean</th>\n",
       "      <td>39.222139</td>\n",
       "      <td>0.504862</td>\n",
       "      <td>30.663452</td>\n",
       "      <td>1.095737</td>\n",
       "      <td>0.204936</td>\n",
       "      <td>1.516081</td>\n",
       "      <td>13279.121487</td>\n",
       "    </tr>\n",
       "    <tr>\n",
       "      <th>std</th>\n",
       "      <td>14.044333</td>\n",
       "      <td>0.500163</td>\n",
       "      <td>6.100468</td>\n",
       "      <td>1.205571</td>\n",
       "      <td>0.403806</td>\n",
       "      <td>1.105208</td>\n",
       "      <td>12110.359656</td>\n",
       "    </tr>\n",
       "    <tr>\n",
       "      <th>min</th>\n",
       "      <td>18.000000</td>\n",
       "      <td>0.000000</td>\n",
       "      <td>15.960000</td>\n",
       "      <td>0.000000</td>\n",
       "      <td>0.000000</td>\n",
       "      <td>0.000000</td>\n",
       "      <td>1121.873900</td>\n",
       "    </tr>\n",
       "    <tr>\n",
       "      <th>25%</th>\n",
       "      <td>27.000000</td>\n",
       "      <td>0.000000</td>\n",
       "      <td>26.290000</td>\n",
       "      <td>0.000000</td>\n",
       "      <td>0.000000</td>\n",
       "      <td>1.000000</td>\n",
       "      <td>4746.344000</td>\n",
       "    </tr>\n",
       "    <tr>\n",
       "      <th>50%</th>\n",
       "      <td>39.000000</td>\n",
       "      <td>1.000000</td>\n",
       "      <td>30.400000</td>\n",
       "      <td>1.000000</td>\n",
       "      <td>0.000000</td>\n",
       "      <td>2.000000</td>\n",
       "      <td>9386.161300</td>\n",
       "    </tr>\n",
       "    <tr>\n",
       "      <th>75%</th>\n",
       "      <td>51.000000</td>\n",
       "      <td>1.000000</td>\n",
       "      <td>34.700000</td>\n",
       "      <td>2.000000</td>\n",
       "      <td>0.000000</td>\n",
       "      <td>2.000000</td>\n",
       "      <td>16657.717450</td>\n",
       "    </tr>\n",
       "    <tr>\n",
       "      <th>max</th>\n",
       "      <td>64.000000</td>\n",
       "      <td>1.000000</td>\n",
       "      <td>53.130000</td>\n",
       "      <td>5.000000</td>\n",
       "      <td>1.000000</td>\n",
       "      <td>3.000000</td>\n",
       "      <td>63770.428010</td>\n",
       "    </tr>\n",
       "  </tbody>\n",
       "</table>\n",
       "</div>"
      ],
      "text/plain": [
       "               age          sex          bmi     children       smoker  \\\n",
       "count  1337.000000  1337.000000  1337.000000  1337.000000  1337.000000   \n",
       "mean     39.222139     0.504862    30.663452     1.095737     0.204936   \n",
       "std      14.044333     0.500163     6.100468     1.205571     0.403806   \n",
       "min      18.000000     0.000000    15.960000     0.000000     0.000000   \n",
       "25%      27.000000     0.000000    26.290000     0.000000     0.000000   \n",
       "50%      39.000000     1.000000    30.400000     1.000000     0.000000   \n",
       "75%      51.000000     1.000000    34.700000     2.000000     0.000000   \n",
       "max      64.000000     1.000000    53.130000     5.000000     1.000000   \n",
       "\n",
       "            region       charges  \n",
       "count  1337.000000   1337.000000  \n",
       "mean      1.516081  13279.121487  \n",
       "std       1.105208  12110.359656  \n",
       "min       0.000000   1121.873900  \n",
       "25%       1.000000   4746.344000  \n",
       "50%       2.000000   9386.161300  \n",
       "75%       2.000000  16657.717450  \n",
       "max       3.000000  63770.428010  "
      ]
     },
     "execution_count": 28,
     "metadata": {},
     "output_type": "execute_result"
    }
   ],
   "source": [
    "dt.describe()"
   ]
  },
  {
   "cell_type": "code",
   "execution_count": 29,
   "id": "d07b09c7",
   "metadata": {},
   "outputs": [
    {
     "data": {
      "text/plain": [
       "age           int64\n",
       "sex          object\n",
       "bmi         float64\n",
       "children      int64\n",
       "smoker       object\n",
       "region       object\n",
       "charges     float64\n",
       "dtype: object"
      ]
     },
     "execution_count": 29,
     "metadata": {},
     "output_type": "execute_result"
    }
   ],
   "source": [
    "data.dtypes"
   ]
  },
  {
   "cell_type": "code",
   "execution_count": 30,
   "id": "05986915",
   "metadata": {},
   "outputs": [
    {
     "data": {
      "image/png": "[encoded data removed]",
      "text/plain": [
       "<Figure size 2000x2500 with 7 Axes>"
      ]
     },
     "metadata": {},
     "output_type": "display_data"
    }
   ],
   "source": [
    "import matplotlib.pyplot as plt\n",
    "import seaborn as sns\n",
    "\n",
    "plt.figure(figsize=(20,25))\n",
    "graph = 1\n",
    "\n",
    "for column in dt: \n",
    "    if graph<=16:\n",
    "        plt.subplot(4,4, graph)\n",
    "        ax=sns.boxplot(data= dt[column])   \n",
    "        plt.xlabel(column, fontsize=15)\n",
    "    \n",
    "    graph+=1\n",
    "plt.show()"
   ]
  },
  {
   "cell_type": "code",
   "execution_count": 31,
   "id": "3035cb52",
   "metadata": {},
   "outputs": [
    {
     "data": {
      "image/png": "[encoded data removed]",
      "text/plain": [
       "<Figure size 3000x3500 with 7 Axes>"
      ]
     },
     "metadata": {},
     "output_type": "display_data"
    }
   ],
   "source": [
    "plt.figure(figsize=(30,35), facecolor='red')\n",
    "plotnumber = 1\n",
    "\n",
    "for column in dt:                       \n",
    "    if plotnumber<=16:                    \n",
    "        ax = plt.subplot(4,4,plotnumber)    \n",
    "        sns.distplot(dt[column])       \n",
    "        plt.xlabel(column, fontsize=20)   \n",
    "\n",
    "    plotnumber+=1  \n",
    "plt.tight_layout() "
   ]
  },
  {
   "cell_type": "markdown",
   "id": "44a8832d",
   "metadata": {},
   "source": [
    "##### No outliners in continuous data is found"
   ]
  },
  {
   "cell_type": "markdown",
   "id": "606f8015",
   "metadata": {},
   "source": [
    "# "
   ]
  },
  {
   "cell_type": "markdown",
   "id": "b35dcaa0",
   "metadata": {},
   "source": [
    "# "
   ]
  },
  {
   "cell_type": "markdown",
   "id": "e6395542",
   "metadata": {},
   "source": [
    "## Removing Skewness from Continuous data"
   ]
  },
  {
   "cell_type": "code",
   "execution_count": 32,
   "id": "66593805",
   "metadata": {},
   "outputs": [
    {
     "data": {
      "text/html": [
       "<div>\n",
       "<style scoped>\n",
       "    .dataframe tbody tr th:only-of-type {\n",
       "        vertical-align: middle;\n",
       "    }\n",
       "\n",
       "    .dataframe tbody tr th {\n",
       "        vertical-align: top;\n",
       "    }\n",
       "\n",
       "    .dataframe thead th {\n",
       "        text-align: right;\n",
       "    }\n",
       "</style>\n",
       "<table border=\"1\" class=\"dataframe\">\n",
       "  <thead>\n",
       "    <tr style=\"text-align: right;\">\n",
       "      <th></th>\n",
       "      <th>age</th>\n",
       "      <th>sex</th>\n",
       "      <th>bmi</th>\n",
       "      <th>children</th>\n",
       "      <th>smoker</th>\n",
       "      <th>region</th>\n",
       "      <th>charges</th>\n",
       "    </tr>\n",
       "  </thead>\n",
       "  <tbody>\n",
       "    <tr>\n",
       "      <th>count</th>\n",
       "      <td>1337.000000</td>\n",
       "      <td>1337.000000</td>\n",
       "      <td>1337.000000</td>\n",
       "      <td>1337.000000</td>\n",
       "      <td>1337.000000</td>\n",
       "      <td>1337.000000</td>\n",
       "      <td>1337.000000</td>\n",
       "    </tr>\n",
       "    <tr>\n",
       "      <th>mean</th>\n",
       "      <td>39.222139</td>\n",
       "      <td>0.504862</td>\n",
       "      <td>30.663452</td>\n",
       "      <td>1.095737</td>\n",
       "      <td>0.204936</td>\n",
       "      <td>1.516081</td>\n",
       "      <td>13279.121487</td>\n",
       "    </tr>\n",
       "    <tr>\n",
       "      <th>std</th>\n",
       "      <td>14.044333</td>\n",
       "      <td>0.500163</td>\n",
       "      <td>6.100468</td>\n",
       "      <td>1.205571</td>\n",
       "      <td>0.403806</td>\n",
       "      <td>1.105208</td>\n",
       "      <td>12110.359656</td>\n",
       "    </tr>\n",
       "    <tr>\n",
       "      <th>min</th>\n",
       "      <td>18.000000</td>\n",
       "      <td>0.000000</td>\n",
       "      <td>15.960000</td>\n",
       "      <td>0.000000</td>\n",
       "      <td>0.000000</td>\n",
       "      <td>0.000000</td>\n",
       "      <td>1121.873900</td>\n",
       "    </tr>\n",
       "    <tr>\n",
       "      <th>25%</th>\n",
       "      <td>27.000000</td>\n",
       "      <td>0.000000</td>\n",
       "      <td>26.290000</td>\n",
       "      <td>0.000000</td>\n",
       "      <td>0.000000</td>\n",
       "      <td>1.000000</td>\n",
       "      <td>4746.344000</td>\n",
       "    </tr>\n",
       "    <tr>\n",
       "      <th>50%</th>\n",
       "      <td>39.000000</td>\n",
       "      <td>1.000000</td>\n",
       "      <td>30.400000</td>\n",
       "      <td>1.000000</td>\n",
       "      <td>0.000000</td>\n",
       "      <td>2.000000</td>\n",
       "      <td>9386.161300</td>\n",
       "    </tr>\n",
       "    <tr>\n",
       "      <th>75%</th>\n",
       "      <td>51.000000</td>\n",
       "      <td>1.000000</td>\n",
       "      <td>34.700000</td>\n",
       "      <td>2.000000</td>\n",
       "      <td>0.000000</td>\n",
       "      <td>2.000000</td>\n",
       "      <td>16657.717450</td>\n",
       "    </tr>\n",
       "    <tr>\n",
       "      <th>max</th>\n",
       "      <td>64.000000</td>\n",
       "      <td>1.000000</td>\n",
       "      <td>53.130000</td>\n",
       "      <td>5.000000</td>\n",
       "      <td>1.000000</td>\n",
       "      <td>3.000000</td>\n",
       "      <td>63770.428010</td>\n",
       "    </tr>\n",
       "  </tbody>\n",
       "</table>\n",
       "</div>"
      ],
      "text/plain": [
       "               age          sex          bmi     children       smoker  \\\n",
       "count  1337.000000  1337.000000  1337.000000  1337.000000  1337.000000   \n",
       "mean     39.222139     0.504862    30.663452     1.095737     0.204936   \n",
       "std      14.044333     0.500163     6.100468     1.205571     0.403806   \n",
       "min      18.000000     0.000000    15.960000     0.000000     0.000000   \n",
       "25%      27.000000     0.000000    26.290000     0.000000     0.000000   \n",
       "50%      39.000000     1.000000    30.400000     1.000000     0.000000   \n",
       "75%      51.000000     1.000000    34.700000     2.000000     0.000000   \n",
       "max      64.000000     1.000000    53.130000     5.000000     1.000000   \n",
       "\n",
       "            region       charges  \n",
       "count  1337.000000   1337.000000  \n",
       "mean      1.516081  13279.121487  \n",
       "std       1.105208  12110.359656  \n",
       "min       0.000000   1121.873900  \n",
       "25%       1.000000   4746.344000  \n",
       "50%       2.000000   9386.161300  \n",
       "75%       2.000000  16657.717450  \n",
       "max       3.000000  63770.428010  "
      ]
     },
     "execution_count": 32,
     "metadata": {},
     "output_type": "execute_result"
    }
   ],
   "source": [
    "dt.describe()"
   ]
  },
  {
   "cell_type": "code",
   "execution_count": 33,
   "id": "cbc8fe7f",
   "metadata": {},
   "outputs": [
    {
     "data": {
      "text/plain": [
       "age           int64\n",
       "sex          object\n",
       "bmi         float64\n",
       "children      int64\n",
       "smoker       object\n",
       "region       object\n",
       "charges     float64\n",
       "dtype: object"
      ]
     },
     "execution_count": 33,
     "metadata": {},
     "output_type": "execute_result"
    }
   ],
   "source": [
    "data.dtypes"
   ]
  },
  {
   "cell_type": "code",
   "execution_count": 34,
   "id": "6b305189",
   "metadata": {},
   "outputs": [
    {
     "data": {
      "text/html": [
       "<div>\n",
       "<style scoped>\n",
       "    .dataframe tbody tr th:only-of-type {\n",
       "        vertical-align: middle;\n",
       "    }\n",
       "\n",
       "    .dataframe tbody tr th {\n",
       "        vertical-align: top;\n",
       "    }\n",
       "\n",
       "    .dataframe thead th {\n",
       "        text-align: right;\n",
       "    }\n",
       "</style>\n",
       "<table border=\"1\" class=\"dataframe\">\n",
       "  <thead>\n",
       "    <tr style=\"text-align: right;\">\n",
       "      <th></th>\n",
       "      <th>age</th>\n",
       "      <th>sex</th>\n",
       "      <th>bmi</th>\n",
       "      <th>children</th>\n",
       "      <th>smoker</th>\n",
       "      <th>region</th>\n",
       "      <th>charges</th>\n",
       "    </tr>\n",
       "  </thead>\n",
       "  <tbody>\n",
       "    <tr>\n",
       "      <th>0</th>\n",
       "      <td>19</td>\n",
       "      <td>female</td>\n",
       "      <td>27.90</td>\n",
       "      <td>0</td>\n",
       "      <td>yes</td>\n",
       "      <td>southwest</td>\n",
       "      <td>16884.9240</td>\n",
       "    </tr>\n",
       "    <tr>\n",
       "      <th>1</th>\n",
       "      <td>18</td>\n",
       "      <td>male</td>\n",
       "      <td>33.77</td>\n",
       "      <td>1</td>\n",
       "      <td>no</td>\n",
       "      <td>southeast</td>\n",
       "      <td>1725.5523</td>\n",
       "    </tr>\n",
       "    <tr>\n",
       "      <th>2</th>\n",
       "      <td>28</td>\n",
       "      <td>male</td>\n",
       "      <td>33.00</td>\n",
       "      <td>3</td>\n",
       "      <td>no</td>\n",
       "      <td>southeast</td>\n",
       "      <td>4449.4620</td>\n",
       "    </tr>\n",
       "  </tbody>\n",
       "</table>\n",
       "</div>"
      ],
      "text/plain": [
       "   age     sex    bmi  children smoker     region     charges\n",
       "0   19  female  27.90         0    yes  southwest  16884.9240\n",
       "1   18    male  33.77         1     no  southeast   1725.5523\n",
       "2   28    male  33.00         3     no  southeast   4449.4620"
      ]
     },
     "execution_count": 34,
     "metadata": {},
     "output_type": "execute_result"
    }
   ],
   "source": [
    "data.head(3)"
   ]
  },
  {
   "cell_type": "code",
   "execution_count": 35,
   "id": "1b8f532e",
   "metadata": {},
   "outputs": [
    {
     "data": {
      "text/plain": [
       "Index(['age', 'sex', 'bmi', 'children', 'smoker', 'region', 'charges'], dtype='object')"
      ]
     },
     "execution_count": 35,
     "metadata": {},
     "output_type": "execute_result"
    }
   ],
   "source": [
    "data.columns"
   ]
  },
  {
   "cell_type": "markdown",
   "id": "301925f0",
   "metadata": {},
   "source": [
    "##### Here columns 'age', 'bmi' & 'charges' are continuous data"
   ]
  },
  {
   "cell_type": "code",
   "execution_count": 36,
   "id": "e3c7d45c",
   "metadata": {},
   "outputs": [
    {
     "data": {
      "text/plain": [
       "age         0.054781\n",
       "sex        -0.019469\n",
       "bmi         0.283914\n",
       "children    0.937421\n",
       "smoker      1.463601\n",
       "region     -0.039068\n",
       "charges     1.515391\n",
       "dtype: float64"
      ]
     },
     "execution_count": 36,
     "metadata": {},
     "output_type": "execute_result"
    }
   ],
   "source": [
    "dt.skew()"
   ]
  },
  {
   "cell_type": "markdown",
   "id": "248fc2ee",
   "metadata": {},
   "source": [
    "##### No high skewness found in Continuous data"
   ]
  },
  {
   "cell_type": "markdown",
   "id": "53db150e",
   "metadata": {},
   "source": [
    "# "
   ]
  },
  {
   "cell_type": "markdown",
   "id": "ba077432",
   "metadata": {},
   "source": [
    "# "
   ]
  },
  {
   "cell_type": "markdown",
   "id": "3ad2268a",
   "metadata": {},
   "source": [
    "## Separating Features & Label"
   ]
  },
  {
   "cell_type": "code",
   "execution_count": 37,
   "id": "2add4f9c",
   "metadata": {},
   "outputs": [],
   "source": [
    "x = dt.drop(columns=['charges'],axis=1)\n",
    "y = dt.charges"
   ]
  },
  {
   "cell_type": "code",
   "execution_count": 38,
   "id": "ec200c70",
   "metadata": {},
   "outputs": [
    {
     "data": {
      "text/html": [
       "<div>\n",
       "<style scoped>\n",
       "    .dataframe tbody tr th:only-of-type {\n",
       "        vertical-align: middle;\n",
       "    }\n",
       "\n",
       "    .dataframe tbody tr th {\n",
       "        vertical-align: top;\n",
       "    }\n",
       "\n",
       "    .dataframe thead th {\n",
       "        text-align: right;\n",
       "    }\n",
       "</style>\n",
       "<table border=\"1\" class=\"dataframe\">\n",
       "  <thead>\n",
       "    <tr style=\"text-align: right;\">\n",
       "      <th></th>\n",
       "      <th>age</th>\n",
       "      <th>sex</th>\n",
       "      <th>bmi</th>\n",
       "      <th>children</th>\n",
       "      <th>smoker</th>\n",
       "      <th>region</th>\n",
       "    </tr>\n",
       "  </thead>\n",
       "  <tbody>\n",
       "    <tr>\n",
       "      <th>0</th>\n",
       "      <td>19</td>\n",
       "      <td>0</td>\n",
       "      <td>27.900</td>\n",
       "      <td>0</td>\n",
       "      <td>1</td>\n",
       "      <td>3</td>\n",
       "    </tr>\n",
       "    <tr>\n",
       "      <th>1</th>\n",
       "      <td>18</td>\n",
       "      <td>1</td>\n",
       "      <td>33.770</td>\n",
       "      <td>1</td>\n",
       "      <td>0</td>\n",
       "      <td>2</td>\n",
       "    </tr>\n",
       "    <tr>\n",
       "      <th>2</th>\n",
       "      <td>28</td>\n",
       "      <td>1</td>\n",
       "      <td>33.000</td>\n",
       "      <td>3</td>\n",
       "      <td>0</td>\n",
       "      <td>2</td>\n",
       "    </tr>\n",
       "    <tr>\n",
       "      <th>3</th>\n",
       "      <td>33</td>\n",
       "      <td>1</td>\n",
       "      <td>22.705</td>\n",
       "      <td>0</td>\n",
       "      <td>0</td>\n",
       "      <td>1</td>\n",
       "    </tr>\n",
       "    <tr>\n",
       "      <th>4</th>\n",
       "      <td>32</td>\n",
       "      <td>1</td>\n",
       "      <td>28.880</td>\n",
       "      <td>0</td>\n",
       "      <td>0</td>\n",
       "      <td>1</td>\n",
       "    </tr>\n",
       "  </tbody>\n",
       "</table>\n",
       "</div>"
      ],
      "text/plain": [
       "   age  sex     bmi  children  smoker  region\n",
       "0   19    0  27.900         0       1       3\n",
       "1   18    1  33.770         1       0       2\n",
       "2   28    1  33.000         3       0       2\n",
       "3   33    1  22.705         0       0       1\n",
       "4   32    1  28.880         0       0       1"
      ]
     },
     "execution_count": 38,
     "metadata": {},
     "output_type": "execute_result"
    }
   ],
   "source": [
    "x.head()"
   ]
  },
  {
   "cell_type": "code",
   "execution_count": 39,
   "id": "ca40e434",
   "metadata": {},
   "outputs": [
    {
     "data": {
      "text/plain": [
       "array([16884.924 ,  1725.5523,  4449.462 , ...,  1629.8335,  2007.945 ,\n",
       "       29141.3603])"
      ]
     },
     "execution_count": 39,
     "metadata": {},
     "output_type": "execute_result"
    }
   ],
   "source": [
    "y = y.ravel()\n",
    "y"
   ]
  },
  {
   "cell_type": "markdown",
   "id": "a75331d6",
   "metadata": {},
   "source": [
    "# "
   ]
  },
  {
   "cell_type": "markdown",
   "id": "20193014",
   "metadata": {},
   "source": [
    "## Standardizing Features"
   ]
  },
  {
   "cell_type": "code",
   "execution_count": 40,
   "id": "3a12f5cd",
   "metadata": {},
   "outputs": [],
   "source": [
    "from sklearn.preprocessing import StandardScaler"
   ]
  },
  {
   "cell_type": "code",
   "execution_count": 41,
   "id": "fec50495",
   "metadata": {},
   "outputs": [],
   "source": [
    "scaler = StandardScaler()\n",
    "x_scaled = scaler.fit_transform(x)"
   ]
  },
  {
   "cell_type": "markdown",
   "id": "f6952340",
   "metadata": {},
   "source": [
    "# "
   ]
  },
  {
   "cell_type": "markdown",
   "id": "57217a2f",
   "metadata": {},
   "source": [
    "## Train-Test Split"
   ]
  },
  {
   "cell_type": "code",
   "execution_count": 42,
   "id": "0fb04067",
   "metadata": {},
   "outputs": [],
   "source": [
    "from sklearn.model_selection import train_test_split"
   ]
  },
  {
   "cell_type": "code",
   "execution_count": 43,
   "id": "d781407e",
   "metadata": {},
   "outputs": [],
   "source": [
    "x_train,x_test,y_train,y_test = train_test_split(x_scaled, y, test_size = 0.25, random_state=0)"
   ]
  },
  {
   "cell_type": "code",
   "execution_count": 44,
   "id": "33349e0e",
   "metadata": {},
   "outputs": [
    {
     "data": {
      "text/plain": [
       "array([[-0.5144311 , -1.00977099, -0.17602803, -0.07944162, -0.50770174,\n",
       "         0.43801727],\n",
       "       [ 1.55123139, -1.00977099, -1.414101  , -0.90923416, -0.50770174,\n",
       "        -1.37227359],\n",
       "       [-1.44041773,  0.99032355, -0.99430407, -0.07944162, -0.50770174,\n",
       "         1.34316271],\n",
       "       ...,\n",
       "       [-0.72812032,  0.99032355,  1.08664242,  0.75035092, -0.50770174,\n",
       "         0.43801727],\n",
       "       [-1.44041773,  0.99032355,  0.79803203, -0.90923416, -0.50770174,\n",
       "        -0.46712816],\n",
       "       [ 0.98139346,  0.99032355, -0.69749453,  0.75035092, -0.50770174,\n",
       "        -1.37227359]])"
      ]
     },
     "execution_count": 44,
     "metadata": {},
     "output_type": "execute_result"
    }
   ],
   "source": [
    "x_train"
   ]
  },
  {
   "cell_type": "code",
   "execution_count": 45,
   "id": "2d321673",
   "metadata": {},
   "outputs": [
    {
     "data": {
      "text/plain": [
       "array([ 4562.8421, 13616.3586,  1837.237 , ...,  4058.1161,  1646.4297,\n",
       "       11244.3769])"
      ]
     },
     "execution_count": 45,
     "metadata": {},
     "output_type": "execute_result"
    }
   ],
   "source": [
    "y_train"
   ]
  },
  {
   "cell_type": "markdown",
   "id": "4bf23de9",
   "metadata": {},
   "source": [
    "# "
   ]
  },
  {
   "cell_type": "markdown",
   "id": "2dbeb871",
   "metadata": {},
   "source": [
    "# "
   ]
  },
  {
   "cell_type": "markdown",
   "id": "7b767fe3",
   "metadata": {},
   "source": [
    "# "
   ]
  },
  {
   "cell_type": "markdown",
   "id": "6305ac9d",
   "metadata": {},
   "source": [
    "## Linear Regression"
   ]
  },
  {
   "cell_type": "code",
   "execution_count": 46,
   "id": "37fba61b",
   "metadata": {},
   "outputs": [
    {
     "data": {
      "text/plain": [
       "LinearRegression()"
      ]
     },
     "execution_count": 46,
     "metadata": {},
     "output_type": "execute_result"
    }
   ],
   "source": [
    "from sklearn.linear_model import LinearRegression\n",
    "reg = LinearRegression()\n",
    "reg.fit(x_train, y_train)"
   ]
  },
  {
   "cell_type": "markdown",
   "id": "d9e20399",
   "metadata": {},
   "source": [
    "### Finding Co-efficient"
   ]
  },
  {
   "cell_type": "code",
   "execution_count": 47,
   "id": "2e463df3",
   "metadata": {},
   "outputs": [
    {
     "data": {
      "text/plain": [
       "array([3431.61260608,   13.54704297, 1849.06031757,  584.44954786,\n",
       "       9656.29674562, -444.33904365])"
      ]
     },
     "execution_count": 47,
     "metadata": {},
     "output_type": "execute_result"
    }
   ],
   "source": [
    "reg.coef_"
   ]
  },
  {
   "cell_type": "markdown",
   "id": "d08daedd",
   "metadata": {},
   "source": [
    "### Finding Intercept"
   ]
  },
  {
   "cell_type": "code",
   "execution_count": 48,
   "id": "1536c910",
   "metadata": {},
   "outputs": [
    {
     "data": {
      "text/plain": [
       "13120.40242894665"
      ]
     },
     "execution_count": 48,
     "metadata": {},
     "output_type": "execute_result"
    }
   ],
   "source": [
    "reg.intercept_"
   ]
  },
  {
   "cell_type": "markdown",
   "id": "4e4d0119",
   "metadata": {},
   "source": [
    "### Checking accuracy on Training data"
   ]
  },
  {
   "cell_type": "code",
   "execution_count": 49,
   "id": "e0734c28",
   "metadata": {},
   "outputs": [
    {
     "name": "stdout",
     "output_type": "stream",
     "text": [
      "Accuracy Score: 0.7517508031354458\n"
     ]
    }
   ],
   "source": [
    "print('Accuracy Score:',reg.score(x_train, y_train))"
   ]
  },
  {
   "cell_type": "markdown",
   "id": "9518e7b0",
   "metadata": {},
   "source": [
    "### Printing the Predicted Values"
   ]
  },
  {
   "cell_type": "code",
   "execution_count": 50,
   "id": "acdc39cc",
   "metadata": {
    "scrolled": true
   },
   "outputs": [
    {
     "name": "stdout",
     "output_type": "stream",
     "text": [
      "[ 5067.18698475  9472.11780987 11392.82711273 26359.09358364\n",
      "  6934.67755949   735.72939063  1776.65426098 -1133.83617319\n",
      "  1931.0351316  14233.95613731  9765.23682717 27102.86856473\n",
      " 14358.72091476  9357.2055605   5329.00941402 10003.36671452\n",
      "  5947.08701151  6116.53579987  4781.81048219 14634.75343737\n",
      "  2498.95777733 12044.39984648  2080.24052087  4390.94798428\n",
      "  4237.56442461  9052.20868128  1484.46961663 12265.8130125\n",
      "  3975.55024527 30090.41300241  8927.03683044 38986.55639029\n",
      "  8607.57426558 12972.0060822  25408.26568052 15549.82425232\n",
      " 12408.04226212 30506.54080624  6929.89976524  3176.90089993\n",
      " 27539.80780407  4180.85238001  5623.83396662 39297.16610237\n",
      " 28088.78290433 11771.15362636 10708.40942819  9831.70108617\n",
      " 13119.22360643  7056.61130434 33899.04421055  5199.54065545\n",
      " 32848.19416825 33143.96557619 15478.22094939  3917.22930538\n",
      "  5476.94456178  9252.2156309  11670.6116048  37947.44269971\n",
      " 10159.88637535 24287.33327212  5755.4871492  15529.66123331\n",
      "  5934.49152605  7963.61514591  -918.35971402 32404.70439013\n",
      "  1333.78831859 10101.62837346 35455.92819044  4039.79481208\n",
      "  8685.79935322 15166.11853382 10949.31392309 12417.30534009\n",
      "  6223.88845474  9651.12993587  3488.12792185  5519.49779721\n",
      " 11814.0440895   4179.01410212  5156.17757265  8859.82423598\n",
      " 34942.97904048 29494.61731457 36094.95848972  4797.29140166\n",
      " 11463.2045976  30176.89842245  9937.44625892  6363.92388116\n",
      " 25858.88603542  9001.27316797  8249.55123685  7267.98365014\n",
      "  9915.3657641   2853.90770565  7480.80144963 14126.08330631\n",
      " 13078.11960223 36596.16164484  6413.53468882 31781.89027877\n",
      "  9867.38123107  8006.48283617  7953.73079939  6382.47255733\n",
      " 14173.55108711 36751.84776829 15150.78601932 10331.56566826\n",
      "  9970.16689986 27033.70572485  1544.50098878  6608.52710717\n",
      "  7695.87631699  8505.44352624 14134.54901929 11817.01725802\n",
      " 35414.78681054  9289.70128408 10829.05642771  5827.7250873\n",
      "  7769.61607981  9337.15079424 33214.7125776  31856.33886348\n",
      " 38904.67272374  9819.42207918 14573.29802523  3744.80479423\n",
      "  5874.40235677  3563.50318438  5602.59982354 29790.16340832\n",
      " 30280.01481891  7513.00592297 32892.99495559  9351.79536576\n",
      " 13899.55306066 10833.50290966   594.23142912 12562.10068484\n",
      "  5480.59662773  8686.87640563  6061.53750759  2615.99259808\n",
      " 13577.63372588 13116.48917274  9415.96813018 31916.7482131\n",
      "  1564.77539069  7138.97351888  6298.10343258 11470.0314779\n",
      "  8883.35786671  2410.65975142 33758.37946682 12222.36420591\n",
      "  7716.12564442 11038.81728286 11496.61660543  9011.08807645\n",
      "  5557.18882394  7428.25052807 23337.32037017   466.67950771\n",
      "  5639.18132786  3832.61086443  6645.38692683 26664.45027354\n",
      "  9780.27707508  5360.14907341  5460.29768614  6877.39693495\n",
      " 12297.03241335  5665.76645539 38268.3569873   6503.36481756\n",
      " 12898.35144563  7894.50217702 13267.67811471   262.64110151\n",
      "  5503.59783094  9507.44670887 14780.80761369  1814.12365425\n",
      " 31232.95245741 13850.81420982 35218.45895805  4990.76740538\n",
      "  6640.94494712 31679.90482716 27921.94272766  1907.61690522\n",
      "  8483.71799915  9922.63049665  4166.63908085 38542.50426017\n",
      " 12875.95017292  9160.339609   13347.19049121 29026.02797374\n",
      " 33311.78205775  7887.72455724  4217.6785475   8973.49417052\n",
      "  8031.66729413 24808.68891185  9927.37185346 39734.70639164\n",
      " 32389.26929437  3940.52100837  7457.59203361  5426.3751822\n",
      "  8032.92729497  4660.68149785 12908.30531878 34348.15018267\n",
      " 11081.20382978  7442.88736336  7282.69827016 10570.85437311\n",
      " 10476.3267762  16159.72982951 14625.15390622 10009.31047786\n",
      " 11034.25682266  2536.04835167  6354.59643908 38459.24269694\n",
      " 11440.89476127 39923.38951047 25563.21458754  4157.82610232\n",
      " 12352.67510068 28632.76092834  1585.3702796  36808.09434482\n",
      "  1871.21628459  7216.86960457 10432.15123776 17904.04261886\n",
      "  4030.81885982 12169.74690953 13550.48056196  3885.08262917\n",
      "  8436.20295563  8020.85306397  1179.90142733 38246.06591532\n",
      "  8637.83734915 11108.41479083  7438.33771553   795.56047611\n",
      " 29957.19305929  2610.78150784  5167.69743179  2715.65721527\n",
      "  7245.29383854 29158.87360015 38209.26428751  3855.7246198\n",
      "  8142.20510786  1928.37647193 34405.41231262 14366.89092434\n",
      " 30878.40706988  3459.9546741  31030.69529358 11062.29390392\n",
      " 11411.02651263  4199.46371622 32500.33753782 33602.8411637\n",
      "  8561.94877121  8193.02463219  4372.38102455 28938.72009426\n",
      " 14699.13417068 16623.04480138  9227.07986175 10848.8502709\n",
      " 10432.38972867  5210.28165711  8829.6902084   9583.64583696\n",
      "  5757.76522314 13107.98785087   887.61054095 39747.75651987\n",
      "  9722.11366138 15549.14629316  2640.81639099 13149.18845399\n",
      " 27381.24328145  9552.65659325  6506.45990339 11416.30543784\n",
      "  2942.23424286 15196.61379817  7254.15094963 26619.77992719\n",
      "  3425.553879    3485.97436058  4961.78879958  5767.7390839\n",
      " 12217.26195304  6965.78102537 31689.72707714 28186.12218487\n",
      " 24604.45080359  7471.98444965  7111.84881224 13602.8304223\n",
      "  8260.29419523  4115.10741457 29659.57224151  8252.89868098\n",
      "  6230.39969803  6305.06790547  -860.94286897 10432.30934858\n",
      "  8870.49455049  9674.69001315 38490.67056743  5228.54634645\n",
      " 28218.65111683  3869.77205899 11062.82550289 10808.4703064\n",
      " 10677.06644002 31834.75317657 16648.33749917]\n"
     ]
    }
   ],
   "source": [
    "y_pred = reg.predict(x_test)\n",
    "print(y_pred)"
   ]
  },
  {
   "cell_type": "markdown",
   "id": "6092bbba",
   "metadata": {},
   "source": [
    "### Checking accuracy on Testing data"
   ]
  },
  {
   "cell_type": "code",
   "execution_count": 51,
   "id": "21844cbc",
   "metadata": {},
   "outputs": [
    {
     "data": {
      "text/plain": [
       "0.7438474494767136"
      ]
     },
     "execution_count": 51,
     "metadata": {},
     "output_type": "execute_result"
    }
   ],
   "source": [
    "reg.score(x_test,y_test)"
   ]
  },
  {
   "cell_type": "markdown",
   "id": "8690dde3",
   "metadata": {},
   "source": [
    "### Checking Error Score"
   ]
  },
  {
   "cell_type": "code",
   "execution_count": 52,
   "id": "93c37ee5",
   "metadata": {},
   "outputs": [],
   "source": [
    "from sklearn.metrics import mean_squared_error, mean_absolute_error, r2_score"
   ]
  },
  {
   "cell_type": "code",
   "execution_count": 53,
   "id": "0eb8602e",
   "metadata": {},
   "outputs": [
    {
     "name": "stdout",
     "output_type": "stream",
     "text": [
      "MSE 40864653.719605416\n",
      "RMSE 6392.546731906261\n",
      "MAE 4376.907790239393\n"
     ]
    }
   ],
   "source": [
    "mse = mean_squared_error(y_test,y_pred)\n",
    "print('MSE',mse)\n",
    "\n",
    "rmse = np.sqrt(mean_squared_error(y_test,y_pred))\n",
    "print('RMSE',rmse)\n",
    "\n",
    "mae = mean_absolute_error(y_test,y_pred)\n",
    "print('MAE',mae)"
   ]
  },
  {
   "cell_type": "markdown",
   "id": "a087d46a",
   "metadata": {},
   "source": [
    "### Checking R2_Score"
   ]
  },
  {
   "cell_type": "code",
   "execution_count": 54,
   "id": "7a588ee0",
   "metadata": {},
   "outputs": [
    {
     "name": "stdout",
     "output_type": "stream",
     "text": [
      "R2_Score 0.7438474494767136\n"
     ]
    }
   ],
   "source": [
    "r2s = r2_score(y_test,y_pred)\n",
    "print('R2_Score',r2s)"
   ]
  },
  {
   "cell_type": "markdown",
   "id": "e41dd1e1",
   "metadata": {},
   "source": [
    "### Actual vs Model predicted"
   ]
  },
  {
   "cell_type": "code",
   "execution_count": 55,
   "id": "c7f935f8",
   "metadata": {},
   "outputs": [
    {
     "data": {
      "image/png": "[encoded data removed]",
      "text/plain": [
       "<Figure size 640x480 with 1 Axes>"
      ]
     },
     "metadata": {},
     "output_type": "display_data"
    }
   ],
   "source": [
    "plt.scatter(y_test, y_pred) \n",
    "plt.xlabel('Testing Data') \n",
    "plt.ylabel('Predicted Data') \n",
    "plt. title('Actual vs Model predicted') \n",
    "plt.show()"
   ]
  },
  {
   "cell_type": "markdown",
   "id": "09d736a9",
   "metadata": {},
   "source": [
    "### Cross - validation"
   ]
  },
  {
   "cell_type": "code",
   "execution_count": 56,
   "id": "65330056",
   "metadata": {},
   "outputs": [],
   "source": [
    "from sklearn.model_selection import KFold, cross_val_score"
   ]
  },
  {
   "cell_type": "code",
   "execution_count": 57,
   "id": "ad7212d9",
   "metadata": {},
   "outputs": [
    {
     "data": {
      "text/plain": [
       "array([0.80560337, 0.65341027, 0.73298072, 0.76687243, 0.7594172 ])"
      ]
     },
     "execution_count": 57,
     "metadata": {},
     "output_type": "execute_result"
    }
   ],
   "source": [
    "c1=cross_val_score (reg, x_train, y_train, cv=5)\n",
    "c1"
   ]
  },
  {
   "cell_type": "code",
   "execution_count": 58,
   "id": "90df5b44",
   "metadata": {},
   "outputs": [
    {
     "data": {
      "text/plain": [
       "0.7436567970180394"
      ]
     },
     "execution_count": 58,
     "metadata": {},
     "output_type": "execute_result"
    }
   ],
   "source": [
    "c1.mean()"
   ]
  },
  {
   "cell_type": "code",
   "execution_count": 59,
   "id": "37524acd",
   "metadata": {},
   "outputs": [
    {
     "data": {
      "text/plain": [
       "array([0.78774375, 0.75719463, 0.60694825, 0.80806382, 0.6860237 ])"
      ]
     },
     "execution_count": 59,
     "metadata": {},
     "output_type": "execute_result"
    }
   ],
   "source": [
    "c2=cross_val_score(reg, x_test, y_test, cv=5)\n",
    "c2"
   ]
  },
  {
   "cell_type": "code",
   "execution_count": 60,
   "id": "1171d054",
   "metadata": {},
   "outputs": [
    {
     "data": {
      "text/plain": [
       "0.7291948295201737"
      ]
     },
     "execution_count": 60,
     "metadata": {},
     "output_type": "execute_result"
    }
   ],
   "source": [
    "c2.mean()"
   ]
  },
  {
   "cell_type": "markdown",
   "id": "24baccff",
   "metadata": {},
   "source": [
    "# "
   ]
  },
  {
   "cell_type": "markdown",
   "id": "024b762d",
   "metadata": {},
   "source": [
    "# "
   ]
  },
  {
   "cell_type": "markdown",
   "id": "92efb00e",
   "metadata": {},
   "source": [
    "## DecisionTreeRegressor"
   ]
  },
  {
   "cell_type": "code",
   "execution_count": 61,
   "id": "acb08a63",
   "metadata": {},
   "outputs": [],
   "source": [
    "from sklearn.tree import DecisionTreeRegressor"
   ]
  },
  {
   "cell_type": "code",
   "execution_count": 62,
   "id": "3e5fb97c",
   "metadata": {},
   "outputs": [
    {
     "data": {
      "text/plain": [
       "{'criterion': 'absolute_error', 'max_depth': 5, 'min_samples_split': 2}"
      ]
     },
     "execution_count": 62,
     "metadata": {},
     "output_type": "execute_result"
    }
   ],
   "source": [
    "from sklearn.model_selection import GridSearchCV\n",
    "dr = DecisionTreeRegressor()\n",
    "param_grid = {\"criterion\":['squared_error','absolute_error','poisson'],\n",
    "              'min_samples_split': [1,2,3,4,5,6], \n",
    "              'max_depth': [1,3,5,7,9,11,12],\n",
    "              }\n",
    "gridsearch = GridSearchCV(estimator=dr, param_grid=param_grid)\n",
    "gridsearch.fit(x_train, y_train)\n",
    "gridsearch.best_params_"
   ]
  },
  {
   "cell_type": "code",
   "execution_count": 63,
   "id": "4c03d018",
   "metadata": {},
   "outputs": [
    {
     "data": {
      "text/plain": [
       "DecisionTreeRegressor(max_depth=5, min_samples_split=3)"
      ]
     },
     "execution_count": 63,
     "metadata": {},
     "output_type": "execute_result"
    }
   ],
   "source": [
    "reg_dec = DecisionTreeRegressor(criterion='squared_error',min_samples_split=3,max_depth=5)\n",
    "reg_dec.fit(x_train, y_train)"
   ]
  },
  {
   "cell_type": "markdown",
   "id": "199d72a2",
   "metadata": {},
   "source": [
    "### Checking accuracy on Training data"
   ]
  },
  {
   "cell_type": "code",
   "execution_count": 64,
   "id": "a1e68b59",
   "metadata": {},
   "outputs": [
    {
     "name": "stdout",
     "output_type": "stream",
     "text": [
      "Accuracy Score: 0.8845110436616919\n"
     ]
    }
   ],
   "source": [
    "print('Accuracy Score:',reg_dec.score(x_train,y_train))"
   ]
  },
  {
   "cell_type": "markdown",
   "id": "e8a0b792",
   "metadata": {},
   "source": [
    "### Printing the Predicted Values"
   ]
  },
  {
   "cell_type": "code",
   "execution_count": 65,
   "id": "7afe1275",
   "metadata": {
    "scrolled": true
   },
   "outputs": [
    {
     "name": "stdout",
     "output_type": "stream",
     "text": [
      "[ 3694.12177683  9124.56587357 11648.29201212 35087.0400315\n",
      "  9198.7139525   4435.40524732  2116.82491679  2116.82491679\n",
      "  2116.82491679 12523.97605092 10563.0906     19345.614388\n",
      " 13783.90219655  9124.56587357  6031.35518863  4435.40524732\n",
      "  6031.35518863  4435.40524732  9627.3493356  13783.90219655\n",
      "  3694.12177683 12523.97605092  3694.12177683  3694.12177683\n",
      "  3694.12177683  6031.35518863  6031.35518863  9124.56587357\n",
      "  6031.35518863 35087.0400315   6702.3416202  46534.45305708\n",
      " 12523.97605092 12523.97605092 19345.614388   14875.44233375\n",
      "  9124.56587357 36862.14301    11648.29201212  3694.12177683\n",
      " 35087.0400315   6031.35518863  9627.3493356  46534.45305708\n",
      " 36862.14301    10563.0906      9124.56587357  6702.3416202\n",
      "  9124.56587357  9627.3493356  24793.70264188  6031.35518863\n",
      " 27175.774907   45612.24176167 12523.97605092  4435.40524732\n",
      "  6031.35518863  9198.7139525  12523.97605092 45612.24176167\n",
      " 14875.44233375 13288.663725    6031.35518863 14875.44233375\n",
      "  6031.35518863  4435.40524732  2116.82491679 41167.81377361\n",
      "  4999.794785    6702.3416202  41167.81377361  6702.3416202\n",
      "  6702.3416202  13783.90219655 12523.97605092 12523.97605092\n",
      " 10563.0906      9124.56587357  3694.12177683  6702.3416202\n",
      " 12523.97605092  4435.40524732  6031.35518863  9124.56587357\n",
      " 41167.81377361 19345.614388   46534.45305708  4435.40524732\n",
      " 12523.97605092 41167.81377361  9627.3493356   9627.3493356\n",
      " 32734.1863      9124.56587357  6031.35518863  6031.35518863\n",
      "  9198.7139525   2116.82491679  6702.3416202  12523.97605092\n",
      " 12523.97605092 27175.774907    6702.3416202  41167.81377361\n",
      "  9124.56587357  6031.35518863 11648.29201212  6031.35518863\n",
      " 12523.97605092 46534.45305708 18385.91332214  6702.3416202\n",
      " 11648.29201212 19345.614388    2116.82491679  6031.35518863\n",
      "  6031.35518863 10563.0906     12523.97605092  6031.35518863\n",
      " 41167.81377361  6702.3416202  12523.97605092  4435.40524732\n",
      "  9124.56587357 12523.97605092 38245.59327    24793.70264188\n",
      " 46534.45305708 14875.44233375 12523.97605092  3694.12177683\n",
      "  6031.35518863  4999.794785    9455.6913925  41167.81377361\n",
      " 20539.80565     9198.7139525  24793.70264188 12523.97605092\n",
      " 11648.29201212 11648.29201212  4999.794785   12523.97605092\n",
      "  6031.35518863 10563.0906      3694.12177683  6702.3416202\n",
      " 12523.97605092 12523.97605092  9124.56587357 42112.2356\n",
      "  2116.82491679  6702.3416202   6031.35518863 12523.97605092\n",
      "  6702.3416202   2116.82491679 27175.774907   11648.29201212\n",
      "  9627.3493356   6031.35518863 12523.97605092  9124.56587357\n",
      "  6031.35518863  9627.3493356  17385.61007824  2116.82491679\n",
      "  6031.35518863  6702.3416202   6702.3416202  17385.61007824\n",
      " 11648.29201212  4435.40524732  6702.3416202   6702.3416202\n",
      " 12523.97605092  6031.35518863 27175.774907    9198.7139525\n",
      "  6702.3416202   6031.35518863 12523.97605092  2116.82491679\n",
      "  9627.3493356   6702.3416202  14875.44233375  2116.82491679\n",
      " 19345.614388   12523.97605092 41167.81377361  6702.3416202\n",
      "  6031.35518863 24793.70264188 35087.0400315   4435.40524732\n",
      "  9627.3493356   9627.3493356   3694.12177683 46534.45305708\n",
      " 12523.97605092 12523.97605092 12523.97605092 19345.614388\n",
      " 41167.81377361  4435.40524732  6031.35518863  6702.3416202\n",
      "  6702.3416202  17385.61007824 11648.29201212 46534.45305708\n",
      " 38746.561075    4435.40524732  6031.35518863  4435.40524732\n",
      "  9627.3493356   6031.35518863 14875.44233375 38746.561075\n",
      " 12523.97605092  9627.3493356   6031.35518863 12523.97605092\n",
      " 11648.29201212 13783.90219655 12523.97605092 12523.97605092\n",
      " 11648.29201212  4435.40524732  9627.3493356  46534.45305708\n",
      " 11648.29201212 46534.45305708 17385.61007824  6031.35518863\n",
      " 11648.29201212 35087.0400315   2116.82491679 45612.24176167\n",
      "  2116.82491679 11648.29201212  6702.3416202  14875.44233375\n",
      "  6031.35518863 11648.29201212 11648.29201212  4999.794785\n",
      "  9627.3493356   6031.35518863  4435.40524732 46534.45305708\n",
      "  6031.35518863 12523.97605092  6031.35518863  2116.82491679\n",
      " 19345.614388    3694.12177683  6702.3416202   4435.40524732\n",
      "  9124.56587357 19345.614388   46534.45305708  4435.40524732\n",
      "  6031.35518863  4999.794785   24793.70264188 18385.91332214\n",
      " 20539.80565     3694.12177683 36862.14301    12523.97605092\n",
      " 12523.97605092  6702.3416202  41167.81377361 41167.81377361\n",
      "  6031.35518863  6031.35518863  4435.40524732 19345.614388\n",
      " 12523.97605092 18385.91332214 10563.0906     12523.97605092\n",
      "  6031.35518863  6702.3416202   6702.3416202   9124.56587357\n",
      "  4435.40524732 11648.29201212  4999.794785   46534.45305708\n",
      " 11648.29201212 13783.90219655  2116.82491679 12523.97605092\n",
      " 35087.0400315   6702.3416202   6031.35518863 10563.0906\n",
      "  3694.12177683 12523.97605092  9124.56587357 19345.614388\n",
      "  4435.40524732  4435.40524732  4435.40524732  6702.3416202\n",
      " 12523.97605092  6031.35518863 27175.774907   19345.614388\n",
      " 17385.61007824  9124.56587357  9124.56587357 12523.97605092\n",
      "  9198.7139525   4435.40524732 41167.81377361  9124.56587357\n",
      "  9455.6913925   4435.40524732  2116.82491679 10563.0906\n",
      "  9124.56587357 12523.97605092 46534.45305708  6031.35518863\n",
      " 19345.614388    6031.35518863 12523.97605092  9124.56587357\n",
      "  9124.56587357 24793.70264188 13783.90219655]\n"
     ]
    }
   ],
   "source": [
    "y_pred = reg_dec.predict(x_test)\n",
    "print(y_pred)"
   ]
  },
  {
   "cell_type": "markdown",
   "id": "9e4eb5ef",
   "metadata": {},
   "source": [
    "### Checking accuracy on Testing data"
   ]
  },
  {
   "cell_type": "code",
   "execution_count": 66,
   "id": "089fbde8",
   "metadata": {},
   "outputs": [
    {
     "data": {
      "text/plain": [
       "0.8289398435808737"
      ]
     },
     "execution_count": 66,
     "metadata": {},
     "output_type": "execute_result"
    }
   ],
   "source": [
    "reg_dec.score(x_test,y_test)"
   ]
  },
  {
   "cell_type": "markdown",
   "id": "05d7737f",
   "metadata": {},
   "source": [
    "### Checking Error Score"
   ]
  },
  {
   "cell_type": "code",
   "execution_count": 67,
   "id": "204d4e17",
   "metadata": {},
   "outputs": [
    {
     "name": "stdout",
     "output_type": "stream",
     "text": [
      "MSE 27289652.369296446\n",
      "RMSE 5223.9498819663695\n",
      "MAE 3024.8499858032214\n"
     ]
    }
   ],
   "source": [
    "mse = mean_squared_error(y_test,y_pred)\n",
    "print('MSE',mse)\n",
    "\n",
    "rmse = np.sqrt(mean_squared_error(y_test,y_pred))\n",
    "print('RMSE',rmse)\n",
    "\n",
    "mae = mean_absolute_error(y_test,y_pred)\n",
    "print('MAE',mae)"
   ]
  },
  {
   "cell_type": "markdown",
   "id": "0a3dd355",
   "metadata": {},
   "source": [
    "### Checking R2_Score"
   ]
  },
  {
   "cell_type": "code",
   "execution_count": 68,
   "id": "54afbf99",
   "metadata": {},
   "outputs": [
    {
     "name": "stdout",
     "output_type": "stream",
     "text": [
      "R2_Score 0.8289398435808737\n"
     ]
    }
   ],
   "source": [
    "r2s = r2_score(y_test,y_pred)\n",
    "print('R2_Score',r2s)"
   ]
  },
  {
   "cell_type": "markdown",
   "id": "5ad32e7b",
   "metadata": {},
   "source": [
    "### Actual vs Model predicted"
   ]
  },
  {
   "cell_type": "code",
   "execution_count": 69,
   "id": "2abee8ef",
   "metadata": {},
   "outputs": [
    {
     "data": {
      "image/png": "[encoded data removed]",
      "text/plain": [
       "<Figure size 640x480 with 1 Axes>"
      ]
     },
     "metadata": {},
     "output_type": "display_data"
    }
   ],
   "source": [
    "plt.scatter(y_test, y_pred) \n",
    "plt.xlabel('Testing Data') \n",
    "plt.ylabel('Predicted Data') \n",
    "plt. title('Actual vs Model predicted') \n",
    "plt.show()"
   ]
  },
  {
   "cell_type": "markdown",
   "id": "e337c5eb",
   "metadata": {},
   "source": [
    "### Cross - validation"
   ]
  },
  {
   "cell_type": "code",
   "execution_count": 70,
   "id": "ef9654bf",
   "metadata": {},
   "outputs": [],
   "source": [
    "from sklearn.model_selection import KFold, cross_val_score"
   ]
  },
  {
   "cell_type": "code",
   "execution_count": 71,
   "id": "53e627e0",
   "metadata": {},
   "outputs": [
    {
     "data": {
      "text/plain": [
       "array([0.8789585 , 0.74712018, 0.80003952, 0.86327229, 0.85944146])"
      ]
     },
     "execution_count": 71,
     "metadata": {},
     "output_type": "execute_result"
    }
   ],
   "source": [
    "c3=cross_val_score(reg_dec, x_train, y_train, cv=5)\n",
    "c3"
   ]
  },
  {
   "cell_type": "code",
   "execution_count": 72,
   "id": "34914ce7",
   "metadata": {},
   "outputs": [
    {
     "data": {
      "text/plain": [
       "0.8297663917961471"
      ]
     },
     "execution_count": 72,
     "metadata": {},
     "output_type": "execute_result"
    }
   ],
   "source": [
    "c3.mean()"
   ]
  },
  {
   "cell_type": "code",
   "execution_count": 73,
   "id": "e2b7a717",
   "metadata": {},
   "outputs": [
    {
     "data": {
      "text/plain": [
       "array([0.84023017, 0.77587878, 0.55912055, 0.88645438, 0.61588272])"
      ]
     },
     "execution_count": 73,
     "metadata": {},
     "output_type": "execute_result"
    }
   ],
   "source": [
    "c4=cross_val_score(reg_dec, x_test, y_test, cv=5)\n",
    "c4"
   ]
  },
  {
   "cell_type": "code",
   "execution_count": 74,
   "id": "c132f423",
   "metadata": {},
   "outputs": [
    {
     "data": {
      "text/plain": [
       "0.7355133188501798"
      ]
     },
     "execution_count": 74,
     "metadata": {},
     "output_type": "execute_result"
    }
   ],
   "source": [
    "c4.mean()"
   ]
  },
  {
   "cell_type": "markdown",
   "id": "143cae12",
   "metadata": {},
   "source": [
    "# "
   ]
  },
  {
   "cell_type": "markdown",
   "id": "cec764b2",
   "metadata": {},
   "source": [
    "# "
   ]
  },
  {
   "cell_type": "markdown",
   "id": "359eb442",
   "metadata": {},
   "source": [
    "## Random Forest Regressor"
   ]
  },
  {
   "cell_type": "code",
   "execution_count": 75,
   "id": "3da1dd65",
   "metadata": {},
   "outputs": [],
   "source": [
    "from sklearn.ensemble import RandomForestRegressor"
   ]
  },
  {
   "cell_type": "code",
   "execution_count": 76,
   "id": "814e0991",
   "metadata": {},
   "outputs": [
    {
     "data": {
      "text/plain": [
       "RandomForestRegressor(max_depth=6, min_samples_split=15, n_estimators=50)"
      ]
     },
     "execution_count": 76,
     "metadata": {},
     "output_type": "execute_result"
    }
   ],
   "source": [
    "reg_rf = RandomForestRegressor(n_estimators=50,criterion='squared_error',min_samples_split=15,max_depth=6)\n",
    "reg_rf.fit(x_train, y_train)"
   ]
  },
  {
   "cell_type": "markdown",
   "id": "600b23d1",
   "metadata": {},
   "source": [
    "### Checking Accuracy Score on Training data"
   ]
  },
  {
   "cell_type": "code",
   "execution_count": 77,
   "id": "5d0c01e8",
   "metadata": {},
   "outputs": [
    {
     "name": "stdout",
     "output_type": "stream",
     "text": [
      "Accuracy Score: 0.9000512246638629\n"
     ]
    }
   ],
   "source": [
    "print('Accuracy Score:',reg_rf.score(x_train,y_train))"
   ]
  },
  {
   "cell_type": "markdown",
   "id": "55bb8e83",
   "metadata": {},
   "source": [
    "### Printing the Predicted Values"
   ]
  },
  {
   "cell_type": "code",
   "execution_count": 78,
   "id": "f5785852",
   "metadata": {
    "scrolled": true
   },
   "outputs": [
    {
     "name": "stdout",
     "output_type": "stream",
     "text": [
      "[ 3022.18393691 10721.92588779 10578.15959775 35022.60072337\n",
      " 10224.63165467  7537.24084469  2724.55328571  2184.46223967\n",
      "  3774.71735467 12388.5149607  10406.65077681 18143.50943108\n",
      " 14503.7105061  10387.44571925  5897.09477174  5805.09596731\n",
      "  5451.91945238  5765.79232414  7681.65260727 14092.26305992\n",
      "  3031.64447152 14519.01965929  2840.60217141  4006.52695317\n",
      "  3271.87745977  6920.5996806   7607.36354716 10085.56568092\n",
      "  4636.8246053  36604.62863386  7216.69157072 45831.8881782\n",
      " 12549.54472772 12050.4140481  18641.13250673 15127.97278512\n",
      "  9448.16479136 37040.25340645  9976.80091654  3279.92199087\n",
      " 35022.60072337  4525.02824051  8497.33065164 46938.79220408\n",
      " 36788.84085231 10515.74333774 10730.4238351   7220.01173506\n",
      "  9766.00616208  8257.61299688 24003.67143465  4869.94872009\n",
      " 27635.01583845 41949.93226194 12227.74332958  4629.14561427\n",
      "  5597.41568119 10130.63756545 12273.04289904 45068.38128982\n",
      " 15135.58251441 16619.20665859  5500.755989   14508.40523255\n",
      "  5129.90993043  6063.25751283  2388.20588044 43603.32308193\n",
      "  5638.52001139  8542.71616895 42833.3652126   7036.3154725\n",
      "  6115.89717648 13653.98879208 13357.85211902 14060.07152693\n",
      "  9716.43390516  9671.21923415  3136.00881608  6678.21173435\n",
      " 12244.95151021  4508.22183615  5738.63796421  9487.77331961\n",
      " 41984.35831178 19690.64649404 45444.99848091  3928.87968008\n",
      " 13514.51801931 39629.10915427  8413.18890066  7943.08963706\n",
      " 21207.4419921  10235.66362468  5807.22260219  6728.12752881\n",
      " 10131.23492489  2398.77611777  6795.87641067 11911.94688397\n",
      " 14387.84657552 27509.06655568  6181.58223106 41282.73065739\n",
      "  9429.5625841   5976.3576541  11099.03396995  5147.4819837\n",
      " 12250.47347826 45240.3479339  17256.77423249  6122.56002933\n",
      " 11331.62050878 17507.95688312  2476.93820889  5605.90505184\n",
      "  7007.59256879  9896.02227291 13267.6025443   6985.52563732\n",
      " 42523.22280892  7462.98093155 12659.43402178  4835.38981996\n",
      "  8606.17092536 12612.85900954 26223.62235897 24555.5093423\n",
      " 46569.97803143 14468.7586808  13262.03895885  3868.35080146\n",
      "  5572.49052964  6473.83995273  5718.8158024  40182.50959536\n",
      " 23195.77366846 10208.81332994 24484.26001152 12169.09435939\n",
      " 11536.47491959 10434.23669677  4982.00570815 11838.77830251\n",
      "  6092.42293646 10578.04719602  3030.80303289  7259.19309777\n",
      " 12786.07023177 12006.17441139 10070.42931098 38652.33856966\n",
      "  2419.35978351  7613.42837422  5341.57384309 12434.25740606\n",
      "  6831.67319576  3442.38968672 26224.4583725  10398.75731742\n",
      "  8183.4653908   6490.27627416 13357.61688705  9846.16096899\n",
      "  5201.5098615   9049.44760728 16837.01474599  2274.26973127\n",
      "  6257.20885525  6675.85425206  7082.43710297 19861.94991081\n",
      " 10662.59475865  3943.92675309  5864.37116859  6796.69208411\n",
      " 13001.04454557  6904.14858334 28074.59266073  9780.06100054\n",
      "  7284.96244162  6270.65560424 12185.67158496  3663.31054901\n",
      "  7648.01716517  6554.81202339 15238.93840375  3811.12771863\n",
      " 19704.89425889 13258.10554921 42650.51703911  5714.25884582\n",
      "  5757.51326954 25031.12548385 35378.87930314  4513.45469484\n",
      "  8031.63129288  8007.75000286  2759.29232619 46127.14426224\n",
      " 12101.1062855  13053.86695803 12786.07023177 19567.57306517\n",
      " 42760.40120294  5516.15029039  7751.69520509  7295.70934741\n",
      "  7319.88591947 17220.79429128 11132.04768037 46682.49591383\n",
      " 38727.24358429  4088.17248533  6315.47817017  4160.64001042\n",
      "  7299.63247928  7924.73844092 14896.19929388 39775.6156747\n",
      " 11334.44495016  8476.60080193  6339.62323578 12061.93950001\n",
      "  9825.44524312 14180.62656873 13083.95343631 12658.55862005\n",
      " 10941.180014    4213.59895294  7135.5969328  45328.10283204\n",
      " 10154.59714933 46758.47390188 17110.19099271  7609.25858792\n",
      " 10837.2843793  35022.60072337  3774.71735467 44818.18575401\n",
      "  2766.64294091  9930.48885209  7310.51180888 15235.74585857\n",
      "  6234.3891582  10513.05933374 11966.22824879  6547.18944818\n",
      "  7272.80360944  5745.42708241  5212.55063397 45247.24359536\n",
      "  5402.29385993 13447.10893092  7297.5112508   2476.93820889\n",
      " 19375.09392364  3394.06387845  8096.87661376  5900.15268089\n",
      "  9451.94832915 20836.56107116 45328.10283204  6506.66704047\n",
      "  6426.68444175  5035.17409276 24583.50228576 17300.99258988\n",
      " 22427.37587638  2554.96532772 37160.31575882 12554.52846469\n",
      " 12396.18637     6908.56628777 40953.05638401 39950.39602734\n",
      "  6100.74894857  5557.79736328  5050.68643517 19099.98114408\n",
      " 12717.7516884  17676.42989515  9804.7678388  12403.51927615\n",
      "  7395.42276458  5261.08000093  6627.86187457  9725.87378365\n",
      "  6339.402102   10629.12529546  6387.89904414 46559.51296\n",
      " 10196.73096933 13632.13187603  3079.98765734 12543.42538366\n",
      " 34587.98800744  7281.66056334  5914.26757171 10000.84308235\n",
      "  2715.48471392 13928.97695433  8419.74321845 17870.3586763\n",
      "  4699.92874867  4628.27111751  4601.92285962  6608.28585836\n",
      " 12369.5249855   6034.67400786 26018.56383354 20128.20037856\n",
      " 17146.50046924  9432.01279142  9771.9874644  12631.18172739\n",
      " 10236.20208628  3686.0133898  38780.21939876  9333.35595796\n",
      "  7554.17245278  6339.402102    2184.46223967 10406.65077681\n",
      "  9557.20811348 12781.99035917 45175.70743208  5041.81137222\n",
      " 18405.55095862  7279.12573263 13507.6450238  10730.4238351\n",
      "  9798.43563471 24959.21028906 14858.62033219]\n"
     ]
    }
   ],
   "source": [
    "y_pred = reg_rf.predict(x_test)\n",
    "print(y_pred)"
   ]
  },
  {
   "cell_type": "markdown",
   "id": "fff8fc7b",
   "metadata": {},
   "source": [
    "### Checking accuracy on Testing data"
   ]
  },
  {
   "cell_type": "code",
   "execution_count": 79,
   "id": "8bf8b026",
   "metadata": {},
   "outputs": [
    {
     "data": {
      "text/plain": [
       "0.8488761095803123"
      ]
     },
     "execution_count": 79,
     "metadata": {},
     "output_type": "execute_result"
    }
   ],
   "source": [
    "reg_rf.score(x_test,y_test)"
   ]
  },
  {
   "cell_type": "markdown",
   "id": "ec47baf1",
   "metadata": {},
   "source": [
    "### Checking Error Score"
   ]
  },
  {
   "cell_type": "code",
   "execution_count": 80,
   "id": "54817a70",
   "metadata": {},
   "outputs": [
    {
     "name": "stdout",
     "output_type": "stream",
     "text": [
      "MSE 24109170.250868574\n",
      "RMSE 4910.1089856406015\n",
      "MAE 2813.7600655868346\n"
     ]
    }
   ],
   "source": [
    "mse = mean_squared_error(y_test,y_pred)\n",
    "print('MSE',mse)\n",
    "\n",
    "rmse = np.sqrt(mean_squared_error(y_test,y_pred))\n",
    "print('RMSE',rmse)\n",
    "\n",
    "mae = mean_absolute_error(y_test,y_pred)\n",
    "print('MAE',mae)"
   ]
  },
  {
   "cell_type": "markdown",
   "id": "5c0cb0cb",
   "metadata": {},
   "source": [
    "### Checking R2_Score"
   ]
  },
  {
   "cell_type": "code",
   "execution_count": 81,
   "id": "e211ecf0",
   "metadata": {},
   "outputs": [
    {
     "name": "stdout",
     "output_type": "stream",
     "text": [
      "R2_Score 0.8488761095803123\n"
     ]
    }
   ],
   "source": [
    "r2s = r2_score(y_test,y_pred)\n",
    "print('R2_Score',r2s)"
   ]
  },
  {
   "cell_type": "markdown",
   "id": "41423228",
   "metadata": {},
   "source": [
    "### Actual vs Model predicted"
   ]
  },
  {
   "cell_type": "code",
   "execution_count": 82,
   "id": "5fe3699e",
   "metadata": {},
   "outputs": [
    {
     "data": {
      "image/png": "[encoded data removed]",
      "text/plain": [
       "<Figure size 640x480 with 1 Axes>"
      ]
     },
     "metadata": {},
     "output_type": "display_data"
    }
   ],
   "source": [
    "plt.scatter(y_test, y_pred) \n",
    "plt.xlabel('Testing Data') \n",
    "plt.ylabel('Predicted Data') \n",
    "plt. title('Actual vs Model predicted') \n",
    "plt.show()"
   ]
  },
  {
   "cell_type": "markdown",
   "id": "1c922903",
   "metadata": {},
   "source": [
    "### Cross - validation"
   ]
  },
  {
   "cell_type": "code",
   "execution_count": 83,
   "id": "1fd1cbb0",
   "metadata": {},
   "outputs": [],
   "source": [
    "from sklearn.model_selection import KFold, cross_val_score"
   ]
  },
  {
   "cell_type": "code",
   "execution_count": 84,
   "id": "36c7c8a3",
   "metadata": {},
   "outputs": [
    {
     "data": {
      "text/plain": [
       "array([0.89095303, 0.79676096, 0.81462919, 0.87997972, 0.87513832])"
      ]
     },
     "execution_count": 84,
     "metadata": {},
     "output_type": "execute_result"
    }
   ],
   "source": [
    "c5=cross_val_score (reg_rf, x_train, y_train, cv=5)\n",
    "c5"
   ]
  },
  {
   "cell_type": "code",
   "execution_count": 85,
   "id": "9329f26d",
   "metadata": {},
   "outputs": [
    {
     "data": {
      "text/plain": [
       "0.8514922438443696"
      ]
     },
     "execution_count": 85,
     "metadata": {},
     "output_type": "execute_result"
    }
   ],
   "source": [
    "c5.mean()"
   ]
  },
  {
   "cell_type": "code",
   "execution_count": 86,
   "id": "d9805f16",
   "metadata": {},
   "outputs": [
    {
     "data": {
      "text/plain": [
       "array([0.89088746, 0.84078471, 0.75256475, 0.88354335, 0.78365175])"
      ]
     },
     "execution_count": 86,
     "metadata": {},
     "output_type": "execute_result"
    }
   ],
   "source": [
    "c6=cross_val_score(reg_rf, x_test, y_test, cv=5)\n",
    "c6"
   ]
  },
  {
   "cell_type": "code",
   "execution_count": 87,
   "id": "43826514",
   "metadata": {},
   "outputs": [
    {
     "data": {
      "text/plain": [
       "0.830286404658694"
      ]
     },
     "execution_count": 87,
     "metadata": {},
     "output_type": "execute_result"
    }
   ],
   "source": [
    "c6.mean()"
   ]
  },
  {
   "cell_type": "markdown",
   "id": "10cc69b3",
   "metadata": {},
   "source": [
    "# "
   ]
  },
  {
   "cell_type": "markdown",
   "id": "5b490c5b",
   "metadata": {},
   "source": [
    "# "
   ]
  },
  {
   "cell_type": "markdown",
   "id": "3830d714",
   "metadata": {},
   "source": [
    "## KNeighbors Regressor"
   ]
  },
  {
   "cell_type": "code",
   "execution_count": 88,
   "id": "db34b36a",
   "metadata": {},
   "outputs": [],
   "source": [
    "from sklearn.neighbors import KNeighborsRegressor"
   ]
  },
  {
   "cell_type": "code",
   "execution_count": 89,
   "id": "682388a0",
   "metadata": {},
   "outputs": [
    {
     "data": {
      "text/plain": [
       "{'algorithm': 'brute', 'leaf_size': 3, 'n_neighbors': 9}"
      ]
     },
     "execution_count": 89,
     "metadata": {},
     "output_type": "execute_result"
    }
   ],
   "source": [
    "from sklearn.model_selection import GridSearchCV\n",
    "knn = KNeighborsRegressor()\n",
    "param_grid = { 'algorithm': ['kd_tree', 'brute'],\n",
    "               'leaf_size': [3,5,6,7,8],\n",
    "               'n_neighbors': [3,5,7,9,11,13]\n",
    "              }\n",
    "gridsearch = GridSearchCV(estimator=knn, param_grid=param_grid)\n",
    "gridsearch.fit(x_train, y_train)\n",
    "gridsearch.best_params_"
   ]
  },
  {
   "cell_type": "code",
   "execution_count": 90,
   "id": "a7168a04",
   "metadata": {},
   "outputs": [
    {
     "data": {
      "text/plain": [
       "KNeighborsRegressor(algorithm='kd_tree', leaf_size=5, n_neighbors=7)"
      ]
     },
     "execution_count": 90,
     "metadata": {},
     "output_type": "execute_result"
    }
   ],
   "source": [
    "reg_KN = KNeighborsRegressor(algorithm= 'kd_tree', leaf_size = 5, n_neighbors = 7)\n",
    "\n",
    "reg_KN.fit(x_train, y_train)"
   ]
  },
  {
   "cell_type": "markdown",
   "id": "6bb20af4",
   "metadata": {},
   "source": [
    "### Checking Accuracy Score on Training data¶"
   ]
  },
  {
   "cell_type": "code",
   "execution_count": 91,
   "id": "a7b863c0",
   "metadata": {},
   "outputs": [
    {
     "name": "stdout",
     "output_type": "stream",
     "text": [
      "Accuracy Score: 0.8588854942285122\n"
     ]
    }
   ],
   "source": [
    "print('Accuracy Score:',reg_KN.score(x_train,y_train))"
   ]
  },
  {
   "cell_type": "markdown",
   "id": "a473d16d",
   "metadata": {},
   "source": [
    "### Printing the Predicted Values"
   ]
  },
  {
   "cell_type": "code",
   "execution_count": 92,
   "id": "4d2d57eb",
   "metadata": {
    "scrolled": true
   },
   "outputs": [
    {
     "name": "stdout",
     "output_type": "stream",
     "text": [
      "[ 3596.01403571  8092.00497143  9465.64562143 24479.82507143\n",
      " 11462.14548571  7551.08176429  5288.79277143  1911.02168571\n",
      "  3242.58271429 11943.01934286  9649.57648143 22256.21197143\n",
      " 14701.26617286  8226.9708      6192.147       4310.08569571\n",
      "  5928.48411429  6871.79219286  6736.6141     12576.48219286\n",
      "  3398.39523571 15176.11793857  4693.83033286  4190.18042429\n",
      "  1519.65045714  6424.84037857  3393.73427143 10438.76406143\n",
      "  6676.71903429 35792.83745     9050.23955    44932.79535714\n",
      " 10165.48       12292.80505714 18537.94212143 16970.10731\n",
      " 11732.43750714 38522.37231     7312.5095      2194.17871429\n",
      " 26966.80426857  4664.29698714 11047.96155857 47690.65143857\n",
      " 39569.40956714 10656.24120286 13882.73495143 10282.75948\n",
      " 10129.89124286  7697.16280714 26088.16110571  3225.78245714\n",
      " 29295.32858571 40353.59896429 12089.59642857  2521.97185\n",
      "  4297.58312143 12820.34426571 11876.41998857 47367.60547429\n",
      " 11548.55780714 20582.61902857  5976.25167429 12295.76861429\n",
      "  2928.11027143  3363.45542857  2112.01428571 35444.90363429\n",
      "  5921.26859429  8734.00662143 41687.66837143  7747.18119857\n",
      "  8060.12401143 12787.45977143 12378.38371429 12563.20230714\n",
      " 11115.10453857 11623.66135     3571.39355     6059.03380714\n",
      " 12116.59726429  2762.19779286  4512.05745714  7993.40742857\n",
      " 37070.29378571 21953.56268143 34344.65367143  4814.87181143\n",
      " 11287.03722857 33891.86148571 11287.31845429  7276.36092857\n",
      " 19422.28098571  8700.54662857  7255.31692571  5424.50525714\n",
      " 11024.15806429  2147.81353571  8601.16216714 12465.84705714\n",
      " 14879.93660857 29618.07051     4333.69068571 38956.32122714\n",
      "  8161.85128571  5799.11701429  5988.96574286  2421.91482143\n",
      " 12653.64788571 43113.53724143 12068.63605714  5522.37339571\n",
      " 11845.17667143 19507.7574      1997.11503571  4203.38796429\n",
      "  9040.53165857 12880.69951857 11789.37114286  6977.61530714\n",
      " 45401.04858143  7127.96824286 10658.58776429  4139.385\n",
      "  7374.442      11007.84228571 21360.61066429 24266.35423429\n",
      " 44797.60032857 11548.16342857 12068.63605714  5112.16832143\n",
      "  3654.31225714  9585.23913857  5134.29301429 27534.72127143\n",
      " 32062.58953714  8000.3776     24666.38415    12612.34248714\n",
      " 14736.48685286 12404.37372143  5506.99442    12198.57644286\n",
      "  5329.3726      9126.85728571  1851.2836      6960.25439857\n",
      " 15550.11915571 12146.93375     8708.13151429 37539.19520714\n",
      "  5006.01733286  5447.40161429  9460.58094714 12405.18280429\n",
      "  7673.94233571  4199.49763    28566.21611429  9889.10046429\n",
      "  7747.25982143  7305.03109571 12208.28553571 10772.64386286\n",
      "  5138.65433857  7090.00560286 20172.77496143  3131.47823571\n",
      "  6819.14973714  6124.76817857  8515.93509286 25533.20710429\n",
      "  7855.04597857  1678.41088571  5672.71230571  5164.47943571\n",
      " 13356.16604143  5654.81654286 40424.72923143  9257.11625857\n",
      "  7665.66873857  6899.84314286 10416.56288571  2073.18982857\n",
      "  9699.47968286  6172.81967143 12696.6534      6066.22394571\n",
      " 30374.12467    14296.57990143 37055.51215     4028.96444286\n",
      " 11147.68666143 33455.01702286 27234.7401      2033.54612857\n",
      "  9689.89628143 11287.31845429  4937.1047     45860.42422857\n",
      " 12899.98688429 13963.27604    15023.32176286 24884.45402857\n",
      " 38816.39924286  3648.64475714  5249.58967714  7466.66971429\n",
      "  8431.83269143 17864.25679    12154.13363571 46201.74674286\n",
      " 44599.27075     2194.17871429  7469.24476714  4320.98828714\n",
      "  7034.42905714  9594.91352714 15487.87796571 33277.45987143\n",
      " 11528.32724571  7747.25982143  6352.96218571  8546.93942857\n",
      "  7887.29372857 12743.89410714 15247.08503571 11608.278\n",
      " 12300.61269429  3759.97637286  7398.62297571 47502.55102714\n",
      "  7690.77957857 46444.64952857 19567.80035714  9033.85479143\n",
      " 12665.60719571 26966.80426857  3312.11158571 43603.65008571\n",
      "  6033.79751714  8457.97135     8019.302      13007.61526571\n",
      "  8903.04816429  9719.41749286 14048.58901286  6816.67166714\n",
      "  6963.22737143  7386.38402429  2123.36771429 36141.95284286\n",
      "  4425.39224286 15957.90684143  7845.53284286  1959.31969286\n",
      " 21867.46063429  7783.10418     5291.49563571  8946.58588571\n",
      " 13800.27276857 32733.13812714 35590.27381429  9985.78404714\n",
      "  5702.15992857  5681.88473429 30187.46282857 14378.91587857\n",
      " 20556.96295714  1287.01415714 45142.55200286 13508.03183571\n",
      " 12209.73808571  5008.01885714 35679.77261429 38402.57138571\n",
      "  5642.80895     7757.16086143  4380.34488571 24894.32433571\n",
      " 12304.12061429 11831.90928571  7414.19014286 13476.91030143\n",
      "  7571.64178571  4663.11104286 10282.52790714  7905.19785714\n",
      "  3831.82039286 11027.25018714  8871.29768143 39516.94811429\n",
      "  9872.21657857 11756.53702857  5087.39494286 12899.98688429\n",
      " 27426.66912857  7538.056       6152.76291    11292.85834286\n",
      "  1920.86787143 12279.98803571  7374.442      18536.87689\n",
      "  4674.31426714  2352.20074286  4058.7855      9313.29080571\n",
      " 12198.57644286  5000.88590714 27559.89504286 22360.54046143\n",
      " 20162.40654286 11856.53965286  8947.98285714  9342.48827143\n",
      " 10399.70922143  3695.14253    31029.53948571  6264.55771429\n",
      " 10413.08066143  4087.91157857  1911.02168571 10404.02476714\n",
      " 11682.48222429 15091.77622714 39894.8632      4814.87181143\n",
      " 19239.07327857  9033.85479143 14701.37381    13170.04118\n",
      " 12332.67279    23823.24898143 14033.65877   ]\n"
     ]
    }
   ],
   "source": [
    "y_pred = reg_KN.predict(x_test)\n",
    "print(y_pred)"
   ]
  },
  {
   "cell_type": "markdown",
   "id": "0715e69e",
   "metadata": {},
   "source": [
    "### Checking accuracy on Testing data"
   ]
  },
  {
   "cell_type": "code",
   "execution_count": 93,
   "id": "ab67d3e8",
   "metadata": {},
   "outputs": [
    {
     "data": {
      "text/plain": [
       "0.8122010232112182"
      ]
     },
     "execution_count": 93,
     "metadata": {},
     "output_type": "execute_result"
    }
   ],
   "source": [
    "reg_KN.score(x_test,y_test)"
   ]
  },
  {
   "cell_type": "markdown",
   "id": "38558b93",
   "metadata": {},
   "source": [
    "### Checking Error Score"
   ]
  },
  {
   "cell_type": "code",
   "execution_count": 94,
   "id": "acb9c517",
   "metadata": {},
   "outputs": [
    {
     "name": "stdout",
     "output_type": "stream",
     "text": [
      "MSE 29960038.03082224\n",
      "RMSE 5473.576347400503\n",
      "MAE 3477.627544022601\n"
     ]
    }
   ],
   "source": [
    "mse = mean_squared_error(y_test,y_pred)\n",
    "print('MSE',mse)\n",
    "\n",
    "rmse = np.sqrt(mean_squared_error(y_test,y_pred))\n",
    "print('RMSE',rmse)\n",
    "\n",
    "mae = mean_absolute_error(y_test,y_pred)\n",
    "print('MAE',mae)"
   ]
  },
  {
   "cell_type": "markdown",
   "id": "eb059b7d",
   "metadata": {},
   "source": [
    "### Checking R2_Score"
   ]
  },
  {
   "cell_type": "code",
   "execution_count": 95,
   "id": "2dfd7575",
   "metadata": {},
   "outputs": [
    {
     "name": "stdout",
     "output_type": "stream",
     "text": [
      "R2_Score 0.8122010232112182\n"
     ]
    }
   ],
   "source": [
    "r2s = r2_score(y_test,y_pred)\n",
    "print('R2_Score',r2s)"
   ]
  },
  {
   "cell_type": "markdown",
   "id": "7d4346bb",
   "metadata": {},
   "source": [
    "### Actual vs Model predicted"
   ]
  },
  {
   "cell_type": "code",
   "execution_count": 96,
   "id": "4229f409",
   "metadata": {},
   "outputs": [
    {
     "data": {
      "image/png": "[encoded data removed]",
      "text/plain": [
       "<Figure size 640x480 with 1 Axes>"
      ]
     },
     "metadata": {},
     "output_type": "display_data"
    }
   ],
   "source": [
    "plt.scatter(y_test, y_pred) \n",
    "plt.xlabel('Testing Data') \n",
    "plt.ylabel('Predicted Data') \n",
    "plt. title('Actual vs Model predicted') \n",
    "plt.show()"
   ]
  },
  {
   "cell_type": "markdown",
   "id": "0419b0f4",
   "metadata": {},
   "source": [
    "### Cross - validation"
   ]
  },
  {
   "cell_type": "code",
   "execution_count": 97,
   "id": "66ecd013",
   "metadata": {},
   "outputs": [],
   "source": [
    "from sklearn.model_selection import KFold, cross_val_score"
   ]
  },
  {
   "cell_type": "code",
   "execution_count": 98,
   "id": "612fc73d",
   "metadata": {},
   "outputs": [
    {
     "data": {
      "text/plain": [
       "array([0.82971411, 0.75890734, 0.78161643, 0.82928554, 0.81412458])"
      ]
     },
     "execution_count": 98,
     "metadata": {},
     "output_type": "execute_result"
    }
   ],
   "source": [
    "c7=cross_val_score (reg_KN, x_train, y_train, cv=5)\n",
    "c7"
   ]
  },
  {
   "cell_type": "code",
   "execution_count": 99,
   "id": "bdbb39be",
   "metadata": {},
   "outputs": [
    {
     "data": {
      "text/plain": [
       "0.8027295992117562"
      ]
     },
     "execution_count": 99,
     "metadata": {},
     "output_type": "execute_result"
    }
   ],
   "source": [
    "c7.mean()"
   ]
  },
  {
   "cell_type": "code",
   "execution_count": 100,
   "id": "caea9355",
   "metadata": {},
   "outputs": [
    {
     "data": {
      "text/plain": [
       "array([0.81657676, 0.80279103, 0.72007525, 0.84082361, 0.76991031])"
      ]
     },
     "execution_count": 100,
     "metadata": {},
     "output_type": "execute_result"
    }
   ],
   "source": [
    "c8=cross_val_score(reg_KN, x_test, y_test, cv=5)\n",
    "c8"
   ]
  },
  {
   "cell_type": "code",
   "execution_count": 101,
   "id": "18ff5e23",
   "metadata": {},
   "outputs": [
    {
     "data": {
      "text/plain": [
       "0.7900353938002963"
      ]
     },
     "execution_count": 101,
     "metadata": {},
     "output_type": "execute_result"
    }
   ],
   "source": [
    "c8.mean()"
   ]
  },
  {
   "cell_type": "markdown",
   "id": "5b690a4c",
   "metadata": {},
   "source": [
    "# "
   ]
  },
  {
   "cell_type": "markdown",
   "id": "2e6e6b84",
   "metadata": {},
   "source": [
    "# "
   ]
  },
  {
   "cell_type": "markdown",
   "id": "a2e3dae5",
   "metadata": {},
   "source": [
    "## SVR"
   ]
  },
  {
   "cell_type": "code",
   "execution_count": 102,
   "id": "55eb0526",
   "metadata": {},
   "outputs": [],
   "source": [
    "from sklearn.svm import SVR"
   ]
  },
  {
   "cell_type": "code",
   "execution_count": 103,
   "id": "af363cdc",
   "metadata": {},
   "outputs": [],
   "source": [
    "from sklearn.model_selection import GridSearchCV\n",
    "svr = SVR()\n",
    "param_grid = {'C': [0.1, 1, 10, 100, 1000],\n",
    "              'gamma': [1, 0.1, 0.01],\n",
    "              'kernel': ['rbf','sigmoid']}\n",
    "gridsearch = GridSearchCV(estimator=svr, param_grid=param_grid)"
   ]
  },
  {
   "cell_type": "code",
   "execution_count": 104,
   "id": "3230261c",
   "metadata": {},
   "outputs": [
    {
     "data": {
      "text/plain": [
       "{'C': 1000, 'gamma': 0.1, 'kernel': 'rbf'}"
      ]
     },
     "execution_count": 104,
     "metadata": {},
     "output_type": "execute_result"
    }
   ],
   "source": [
    "gridsearch.fit(x_train, y_train)\n",
    "gridsearch.best_params_"
   ]
  },
  {
   "cell_type": "code",
   "execution_count": 105,
   "id": "48983496",
   "metadata": {},
   "outputs": [
    {
     "data": {
      "text/plain": [
       "SVR(C=10000, gamma=0.1)"
      ]
     },
     "execution_count": 105,
     "metadata": {},
     "output_type": "execute_result"
    }
   ],
   "source": [
    "reg_SVR = SVR(C=10000, gamma= 0.1, kernel= 'rbf')\n",
    "\n",
    "reg_SVR.fit(x_train, y_train)"
   ]
  },
  {
   "cell_type": "markdown",
   "id": "29b33be2",
   "metadata": {},
   "source": [
    "### Checking Accuracy Score"
   ]
  },
  {
   "cell_type": "code",
   "execution_count": 106,
   "id": "990b6b3c",
   "metadata": {},
   "outputs": [
    {
     "name": "stdout",
     "output_type": "stream",
     "text": [
      "Accuracy Score: 0.8440587070713242\n"
     ]
    }
   ],
   "source": [
    "print('Accuracy Score:',reg_SVR.score(x_train,y_train))"
   ]
  },
  {
   "cell_type": "markdown",
   "id": "7706e0c6",
   "metadata": {},
   "source": [
    "### Printing the Predicted Values"
   ]
  },
  {
   "cell_type": "code",
   "execution_count": 107,
   "id": "556ab3cd",
   "metadata": {
    "scrolled": true
   },
   "outputs": [
    {
     "name": "stdout",
     "output_type": "stream",
     "text": [
      "[ 1667.70231428  8513.88771172  9290.84657559 23385.46766529\n",
      "  9710.72534567  2751.02039553  2215.75489289  1388.16253103\n",
      "  2684.18500777 12233.79917901  8249.87826326 19466.27269779\n",
      " 13931.63667953  8192.01571244  5456.14211525  2865.40087952\n",
      "  5273.29583052  3462.83614612  6684.71101542 14661.6297473\n",
      "  1625.43400849 13248.93431276  1267.43248951  2639.79136878\n",
      "  1668.65262406  4638.2024918   3872.01750115 11391.91259402\n",
      "  3756.47142663 34125.20456986  8057.6309598  49745.29407105\n",
      " 10595.04228352 10231.29932133 13624.16416497 15311.63815354\n",
      "  8349.38379133 38207.96016391  8442.74037842  1889.1213541\n",
      " 25240.35971385  2880.08356497  4621.81274377 49947.71093465\n",
      " 34396.21749077  8121.39495778 10735.22311321  7690.32523127\n",
      "  9894.5073446   7170.10693573 25476.03474705  4133.44338484\n",
      " 29884.96900415 42582.50507031 11856.14699976  3061.20238685\n",
      "  3188.29162259  8811.86197431  9133.52838463 50906.54444826\n",
      " 12429.64265835 13263.36379133  4276.49653637 14247.27193378\n",
      "  3941.04258837  3208.16861351  1800.12037979 37221.49076951\n",
      "  3195.75742791  8175.53037497 45811.76087281  4743.60704996\n",
      "  4689.08444071 13887.00103805 13037.55974476 13202.94416121\n",
      "  7167.39751431  7719.79405708  1878.15177222  5265.76608305\n",
      " 11658.04310101  3205.16397068  4584.16061097  7428.84065048\n",
      " 41846.12174396 20341.148737   34604.9103345   2716.87333381\n",
      " 12332.69604902 35751.0759026   6391.243246    7225.339511\n",
      " 14647.07703161  8490.77273599  4510.95843758  5147.37711347\n",
      "  9511.16859432  2101.13009677  5365.91810261 10624.71391774\n",
      " 12725.48638116 29037.96791043  4383.02994615 37526.37073241\n",
      "  8545.80865826  5260.71539093  7497.60943229  3581.3982115\n",
      " 11973.46103412 40360.11204802 14550.39513567  4226.91522134\n",
      "  9221.37300748 15572.60914505  1716.68941112  5462.0478605\n",
      "  6061.06204572  8453.98243378 13422.99935948  6850.65538183\n",
      " 42662.29909437  7240.078808   11022.95151793  3552.84006002\n",
      "  7627.15357782 10969.93158053 26604.67552376 20377.62238372\n",
      " 46128.76243328 12029.47860222 12895.3373314   1731.45818464\n",
      "  5222.36264246  3902.47577331  3479.05037141 29381.96079447\n",
      " 20785.76680562  7321.93912222 22016.04730261  9862.9463148\n",
      " 10992.71555605  9886.07981252  2419.85077347 10455.47191511\n",
      "  4907.07762376  8277.14834691  1259.67347819  3884.14741081\n",
      " 12286.7907186  11768.77102754  9923.95560653 42404.54547388\n",
      "  1260.14136216  5980.74559231  4644.48895582 10206.32054753\n",
      "  6769.39309358  1732.51574903 30511.30888069 10124.94723363\n",
      "  8256.10858571  5428.88623422 13034.93345395  8634.37370791\n",
      "  3675.78914731  5023.95796769 10878.7509984   2111.58081095\n",
      "  4429.45803511  5676.2237253   4076.7269922  23297.50892302\n",
      "  8288.25954956  1979.45789731  4267.38282601  4392.93235157\n",
      " 11173.05375923  6105.78264731 36508.2262708   7235.31630944\n",
      "  6310.52802985  6488.0651412  11369.58584865  1928.01744213\n",
      "  5661.63019086  5965.8532252  13968.46307879  2516.20318547\n",
      " 25953.82172505 10749.4881476  35679.43532724  4012.39669223\n",
      "  5961.69491207 22653.33472331 29338.33848249  1935.85762482\n",
      "  6414.53579071  6596.84999442  1634.29588153 46066.31764331\n",
      " 11551.17560289 11081.03354622 12281.64874933 20743.3653538\n",
      " 44112.11120236  3455.14049376  5505.94368137  6896.07749872\n",
      "  6620.4101357  13398.62475682  8902.41525541 50901.93367312\n",
      " 41803.01447843  2311.4601959   6269.04239262  2508.5402465\n",
      "  6708.37269399  5329.37606577 14003.23817038 33982.78274404\n",
      "  9480.20644769  7988.92934834  7027.48836146  9718.85641171\n",
      "  7725.9862541  14173.88252925 12308.71731103 11824.15591255\n",
      "  8732.58797982  2133.91386647  5036.52683221 43534.66939351\n",
      "  8021.0865984  51097.42068712 15104.43185147  4697.43813644\n",
      " 10237.71479308 27095.39263584  2675.66733021 48763.53038545\n",
      "  1765.34862874  8631.73207942  7374.51836158 12392.24092969\n",
      "  4178.29241245  9978.83397883 10845.29215294  3346.54862523\n",
      "  6721.37304979  6172.05050145  1934.2221477  39365.53461658\n",
      "  4663.87937735 13070.6853584   6548.14836178  1715.11045957\n",
      " 20258.17919093  1733.88165059  4590.90240578  3515.56833555\n",
      "  8762.72537988 26495.06774628 37657.61414231  3273.46554235\n",
      "  6654.96424436  2400.25479585 26255.95898888 15052.88876822\n",
      " 18869.56366007  1138.07597512 38696.54190167 11311.35558842\n",
      " 12234.83183879  4237.91613243 40799.0830137  39796.81270366\n",
      "  5389.38325656  4325.2406319   3390.74517749 25140.21642058\n",
      " 13280.50930133 14478.35367525  7337.30518084 10587.61126745\n",
      "  6063.09815646  3625.66406037  5613.76323624  7454.00092074\n",
      "  4146.08861022  8374.22897698  2829.26495434 45717.10624161\n",
      "  9280.3910145  13002.64049456  2206.97529333 11924.59620313\n",
      " 24985.7563814   7960.46396283  4760.95301918  8457.00968844\n",
      "  1638.70384834 13618.60104737  7624.28455034 15646.13668914\n",
      "  2790.93146982  2709.84605818  3221.32872025  6746.20284938\n",
      "  9739.32104802  5487.15724116 26606.12095908 22921.55847614\n",
      " 12148.63684846  8547.9405941   9198.43186856 10322.70211248\n",
      "  8547.4117116   1822.79280559 34006.62481625  7336.36817019\n",
      "  3947.89965742  4137.06074296  1341.01721253  8256.84543853\n",
      "  9200.32785886 11869.56741671 42304.74540072  3087.08081904\n",
      " 16215.24326982  4689.16992861 12516.1466497  10736.57502493\n",
      "  9341.05183254 19900.11256767 14314.55005729]\n"
     ]
    }
   ],
   "source": [
    "y_pred = reg_SVR.predict(x_test)\n",
    "print(y_pred)"
   ]
  },
  {
   "cell_type": "markdown",
   "id": "bcdfa96b",
   "metadata": {},
   "source": [
    "### Checking accuracy on Testing data"
   ]
  },
  {
   "cell_type": "code",
   "execution_count": 108,
   "id": "9f8e8574",
   "metadata": {},
   "outputs": [
    {
     "data": {
      "text/plain": [
       "0.8250988873582682"
      ]
     },
     "execution_count": 108,
     "metadata": {},
     "output_type": "execute_result"
    }
   ],
   "source": [
    "reg_SVR.score(x_test,y_test)"
   ]
  },
  {
   "cell_type": "markdown",
   "id": "79e3d148",
   "metadata": {},
   "source": [
    "### Checking Error Score"
   ]
  },
  {
   "cell_type": "code",
   "execution_count": 109,
   "id": "ce8c10d7",
   "metadata": {},
   "outputs": [
    {
     "name": "stdout",
     "output_type": "stream",
     "text": [
      "MSE 27902409.67219384\n",
      "RMSE 5282.273153879288\n",
      "MAE 2237.3392665570595\n"
     ]
    }
   ],
   "source": [
    "mse = mean_squared_error(y_test,y_pred)\n",
    "print('MSE',mse)\n",
    "\n",
    "rmse = np.sqrt(mean_squared_error(y_test,y_pred))\n",
    "print('RMSE',rmse)\n",
    "\n",
    "mae = mean_absolute_error(y_test,y_pred)\n",
    "print('MAE',mae)"
   ]
  },
  {
   "cell_type": "markdown",
   "id": "24beb693",
   "metadata": {},
   "source": [
    "### Checking R2_Score"
   ]
  },
  {
   "cell_type": "code",
   "execution_count": 110,
   "id": "f51387e3",
   "metadata": {},
   "outputs": [
    {
     "name": "stdout",
     "output_type": "stream",
     "text": [
      "R2_Score 0.8250988873582682\n"
     ]
    }
   ],
   "source": [
    "r2s = r2_score(y_test,y_pred)\n",
    "print('R2_Score',r2s)"
   ]
  },
  {
   "cell_type": "markdown",
   "id": "a77d7664",
   "metadata": {},
   "source": [
    "### Actual vs Model predicted"
   ]
  },
  {
   "cell_type": "code",
   "execution_count": 111,
   "id": "0dd56a88",
   "metadata": {},
   "outputs": [
    {
     "data": {
      "image/png": "[encoded data removed]",
      "text/plain": [
       "<Figure size 640x480 with 1 Axes>"
      ]
     },
     "metadata": {},
     "output_type": "display_data"
    }
   ],
   "source": [
    "plt.scatter(y_test, y_pred) \n",
    "plt.xlabel('Testing Data') \n",
    "plt.ylabel('Predicted Data') \n",
    "plt. title('Actual vs Model predicted') \n",
    "plt.show()"
   ]
  },
  {
   "cell_type": "markdown",
   "id": "70313107",
   "metadata": {},
   "source": [
    "### Cross - validation"
   ]
  },
  {
   "cell_type": "code",
   "execution_count": 112,
   "id": "59ef9f90",
   "metadata": {},
   "outputs": [],
   "source": [
    "from sklearn.model_selection import KFold, cross_val_score"
   ]
  },
  {
   "cell_type": "code",
   "execution_count": 113,
   "id": "2490fb0c",
   "metadata": {},
   "outputs": [
    {
     "data": {
      "text/plain": [
       "array([0.88449071, 0.7868025 , 0.80449269, 0.86246789, 0.8394503 ])"
      ]
     },
     "execution_count": 113,
     "metadata": {},
     "output_type": "execute_result"
    }
   ],
   "source": [
    "c9=cross_val_score (reg_SVR, x_train, y_train, cv=5)\n",
    "c9"
   ]
  },
  {
   "cell_type": "code",
   "execution_count": 114,
   "id": "15b0469e",
   "metadata": {},
   "outputs": [
    {
     "data": {
      "text/plain": [
       "0.8355408169101042"
      ]
     },
     "execution_count": 114,
     "metadata": {},
     "output_type": "execute_result"
    }
   ],
   "source": [
    "c9.mean()"
   ]
  },
  {
   "cell_type": "code",
   "execution_count": 115,
   "id": "b6f6d21e",
   "metadata": {},
   "outputs": [
    {
     "data": {
      "text/plain": [
       "array([0.86528683, 0.80706879, 0.73112601, 0.83626337, 0.78046806])"
      ]
     },
     "execution_count": 115,
     "metadata": {},
     "output_type": "execute_result"
    }
   ],
   "source": [
    "c10=cross_val_score(reg_SVR, x_test, y_test, cv=5)\n",
    "c10"
   ]
  },
  {
   "cell_type": "code",
   "execution_count": 116,
   "id": "6aeb373e",
   "metadata": {},
   "outputs": [
    {
     "data": {
      "text/plain": [
       "0.8040426116214412"
      ]
     },
     "execution_count": 116,
     "metadata": {},
     "output_type": "execute_result"
    }
   ],
   "source": [
    "c10.mean()"
   ]
  },
  {
   "cell_type": "markdown",
   "id": "997be2d9",
   "metadata": {},
   "source": [
    "# "
   ]
  },
  {
   "cell_type": "markdown",
   "id": "c40abed3",
   "metadata": {},
   "source": [
    "# "
   ]
  },
  {
   "cell_type": "markdown",
   "id": "4adcaf9d",
   "metadata": {},
   "source": [
    "## Lasso Regression"
   ]
  },
  {
   "cell_type": "code",
   "execution_count": 117,
   "id": "92086953",
   "metadata": {},
   "outputs": [],
   "source": [
    "from sklearn.linear_model import Lasso, LassoCV"
   ]
  },
  {
   "cell_type": "code",
   "execution_count": 118,
   "id": "24bb99a9",
   "metadata": {},
   "outputs": [
    {
     "data": {
      "text/plain": [
       "LassoCV(max_iter=100, normalize=True)"
      ]
     },
     "execution_count": 118,
     "metadata": {},
     "output_type": "execute_result"
    }
   ],
   "source": [
    "lasscv = LassoCV(alphas = None, max_iter = 100, normalize = True)   \n",
    "\n",
    "lasscv.fit(x_train, y_train)"
   ]
  },
  {
   "cell_type": "code",
   "execution_count": 119,
   "id": "58ec49a1",
   "metadata": {},
   "outputs": [
    {
     "data": {
      "text/plain": [
       "1.295094682847476"
      ]
     },
     "execution_count": 119,
     "metadata": {},
     "output_type": "execute_result"
    }
   ],
   "source": [
    "alpha = lasscv.alpha_\n",
    "alpha"
   ]
  },
  {
   "cell_type": "code",
   "execution_count": 120,
   "id": "29e10cbb",
   "metadata": {},
   "outputs": [
    {
     "data": {
      "text/plain": [
       "Lasso(alpha=1.295094682847476)"
      ]
     },
     "execution_count": 120,
     "metadata": {},
     "output_type": "execute_result"
    }
   ],
   "source": [
    "reg_lasso = Lasso(alpha)      # Passing Learning rate/speed to LASSO\n",
    "reg_lasso.fit(x_train,y_train)"
   ]
  },
  {
   "cell_type": "markdown",
   "id": "b23455de",
   "metadata": {},
   "source": [
    "### Checking Accuracy Score"
   ]
  },
  {
   "cell_type": "code",
   "execution_count": 121,
   "id": "6b0470eb",
   "metadata": {},
   "outputs": [
    {
     "name": "stdout",
     "output_type": "stream",
     "text": [
      "Accuracy Score: 0.751750733651105\n"
     ]
    }
   ],
   "source": [
    "print('Accuracy Score:',reg_lasso.score(x_train,y_train))"
   ]
  },
  {
   "cell_type": "markdown",
   "id": "1cee376d",
   "metadata": {},
   "source": [
    "### Printing the Predicted Values"
   ]
  },
  {
   "cell_type": "code",
   "execution_count": 122,
   "id": "30ac1281",
   "metadata": {
    "scrolled": true
   },
   "outputs": [
    {
     "name": "stdout",
     "output_type": "stream",
     "text": [
      "[ 5070.3449145   9474.30153799 11389.40059655 26358.94010162\n",
      "  6938.75531164   739.63830545  1780.19880176 -1127.1462259\n",
      "  1934.9891494  14233.25676006  9767.92316332 27102.87021205\n",
      " 14355.11341573  9358.54839089  5334.2317661  10000.42001478\n",
      "  5950.37623847  6114.73067121  4781.61379708 14634.36513565\n",
      "  2504.04800271 12047.02016016  2084.51224694  4391.0773088\n",
      "  4239.47476113  9048.80742727  1489.25504121 12264.65941952\n",
      "  3980.8568687  30084.6465474   8926.62928503 38978.92747497\n",
      "  8610.71280738 12971.75878866 25409.52918416 15547.0015529\n",
      " 12405.01369247 30504.60931925  6930.67144358  3182.72982845\n",
      " 27536.77894142  4183.52011983  5624.05870557 39288.97365593\n",
      " 28089.50613393 11770.15263907 10708.72722168  9831.65745272\n",
      " 13120.1162957   7054.90730426 33894.19849286  5201.7351282\n",
      " 32846.54295502 33140.24749947 15477.62997395  3917.80204685\n",
      "  5480.81524495  9252.1673909  11669.99257834 37939.2447155\n",
      " 10159.98072123 24288.82751867  5755.50875949 15526.23910506\n",
      "  5936.03092836  7964.68754095  -909.5516801  32398.31985184\n",
      "  1338.81943122 10097.43583457 35451.16828665  4042.46013439\n",
      "  8684.14187306 15166.27290368 10951.29006918 12417.13242506\n",
      "  6227.79939598  9649.97141437  3492.67812076  5519.2801306\n",
      " 11813.91663938  4181.46587883  5159.75555295  8861.02879401\n",
      " 34936.10751768 29492.39420363 36089.06653521  4798.14446052\n",
      " 11463.8798809  30176.04020432  9934.41709104  6363.99179528\n",
      " 25858.77262638  9002.9859012   8247.57914086  7268.205027\n",
      "  9916.05422079  2854.66784455  7481.18412675 14125.06980792\n",
      " 13075.16929308 36590.60732693  6415.45861349 31779.3925517\n",
      "  9870.31213641  8008.54402686  7953.42584863  6384.61736808\n",
      " 14169.57238265 36749.10580661 15150.33088379 10328.46572944\n",
      "  9971.03344122 27034.25679705  1545.9399903   6610.27410965\n",
      "  7694.10817549  8508.04628045 14134.87359111 11815.67741905\n",
      " 35408.40735876  9287.46381403 10826.56460813  5831.65326971\n",
      "  7773.81899637  9339.8425189  33211.83000276 31852.41741629\n",
      " 38900.31101012  9821.86171961 14572.86896322  3746.05641463\n",
      "  5876.59959841  3564.98687598  5602.66457194 29790.00458303\n",
      " 30279.2597087   7514.78714372 32893.05619977  9351.97851811\n",
      " 13892.27529407 10833.92410019   597.23245048 12558.9259911\n",
      "  5481.13137595  8691.41865061  6061.66709574  2619.21864267\n",
      " 13575.87975812 13113.83338598  9413.2255216  31913.23007726\n",
      "  1569.43494469  7138.38443581  6301.03959186 11469.75443806\n",
      "  8880.39666231  2412.91516175 33755.51137141 12220.19204157\n",
      "  7715.58460246 11037.44835026 11498.18096951  9010.93674325\n",
      "  5559.34666044  7423.39115195 23342.76519824   472.3563252\n",
      "  5638.24587758  3835.01523709  6643.70952961 26665.30268642\n",
      "  9780.15492094  5361.41900446  5460.98002477  6875.14325187\n",
      " 12295.93563547  5666.67240903 38259.37509708  6504.87424576\n",
      " 12894.23924096  7897.15814452 13265.32343735   267.76142458\n",
      "  5502.44966482  9507.97687259 14776.80223911  1820.45897866\n",
      " 31226.93059054 13846.26818297 35212.71594383  4993.55758826\n",
      "  6644.1336821  31678.7090907  27922.16847388  1912.52903493\n",
      "  8480.63395165  9919.71458079  4170.47456881 38537.89609999\n",
      " 12874.19851015  9160.57139912 13345.60990535 29024.27463344\n",
      " 33307.61432746  7890.0007233   4221.22438717  8973.58374427\n",
      "  8032.36337889 24812.08424277  9928.16848828 39727.74825044\n",
      " 32384.5572535   3946.08171561  7459.44318984  5427.90160035\n",
      "  8029.45926916  4662.96667309 12907.88688865 34341.67113223\n",
      " 11081.1303694   7442.44979676  7286.01875912 10571.48631277\n",
      " 10476.30196645 16155.91395156 14623.75847272 10013.87879268\n",
      " 11032.04255158  2539.54519696  6352.50168028 38454.57997012\n",
      " 11440.24633046 39916.49361676 25563.43415412  4160.18330353\n",
      " 12348.00747336 28629.31816424  1589.58437025 36801.69605095\n",
      "  1877.92548501  7216.38080402 10433.42354844 17897.90865713\n",
      "  4036.28810974 12165.94006073 13548.33860436  3886.94541074\n",
      "  8432.43151151  8024.13711324  1185.36107881 38243.54416687\n",
      "  8637.96856184 11111.41790402  7439.04354982   797.5629688\n",
      " 29954.1029771   2612.88634968  5165.68553272  2720.8823018\n",
      "  7245.42649415 29157.83886564 38202.49629632  3855.51838537\n",
      "  8141.45203738  1930.37370335 34401.96001923 14365.2578658\n",
      " 30876.25283411  3462.04165263 31026.38438127 11062.95137512\n",
      " 11412.45106364  4201.70259154 32496.67822088 33599.37535885\n",
      "  8560.36936782  8192.13963319  4376.25751304 28939.40806138\n",
      " 14695.69604593 16619.30385838  9230.90935148 10848.11127219\n",
      " 10428.56267713  5210.74368445  8828.33288644  9583.48055184\n",
      "  5758.6123405  13102.9645599    889.44836604 39741.38805267\n",
      "  9719.94416397 15546.63016627  2643.71074965 13147.33331586\n",
      " 27384.25815413  9553.96958066  6508.41404744 11416.7181049\n",
      "  2943.76828378 15194.45187963  7258.74169413 26622.52735549\n",
      "  3426.51165587  3486.66736182  4965.11972198  5768.26869464\n",
      " 12214.14250087  6966.6513307  31690.09611861 28184.36634665\n",
      " 24606.95523283  7476.7176142   7117.05714695 13600.5601091\n",
      "  8261.92158738  4117.2119907  29659.00114666  8256.63587838\n",
      "  6229.75964693  6305.50324083  -854.45824236 10434.49378976\n",
      "  8874.37970756  9678.46552394 38488.68792846  5229.27914554\n",
      " 28215.93503626  3872.34598757 11062.43603687 10808.71281564\n",
      " 10676.47179526 31833.95145894 16643.10943317]\n"
     ]
    }
   ],
   "source": [
    "y_pred = reg_lasso.predict(x_test)\n",
    "print(y_pred)"
   ]
  },
  {
   "cell_type": "markdown",
   "id": "8e3e5703",
   "metadata": {},
   "source": [
    "### Checking accuracy on Testing data"
   ]
  },
  {
   "cell_type": "code",
   "execution_count": 123,
   "id": "fe3a56ce",
   "metadata": {},
   "outputs": [
    {
     "data": {
      "text/plain": [
       "0.7438351331140518"
      ]
     },
     "execution_count": 123,
     "metadata": {},
     "output_type": "execute_result"
    }
   ],
   "source": [
    "reg_lasso.score(x_test,y_test)"
   ]
  },
  {
   "cell_type": "markdown",
   "id": "ac5b30f0",
   "metadata": {},
   "source": [
    "### Checking Error Score"
   ]
  },
  {
   "cell_type": "code",
   "execution_count": 124,
   "id": "61ffdcec",
   "metadata": {},
   "outputs": [
    {
     "name": "stdout",
     "output_type": "stream",
     "text": [
      "MSE 40866618.57958524\n",
      "RMSE 6392.700413720734\n",
      "MAE 4376.796745396159\n"
     ]
    }
   ],
   "source": [
    "mse = mean_squared_error(y_test,y_pred)\n",
    "print('MSE',mse)\n",
    "\n",
    "rmse = np.sqrt(mean_squared_error(y_test,y_pred))\n",
    "print('RMSE',rmse)\n",
    "\n",
    "mae = mean_absolute_error(y_test,y_pred)\n",
    "print('MAE',mae)"
   ]
  },
  {
   "cell_type": "markdown",
   "id": "0e8f1870",
   "metadata": {},
   "source": [
    "### Checking R2_Score"
   ]
  },
  {
   "cell_type": "code",
   "execution_count": 125,
   "id": "7b71f540",
   "metadata": {},
   "outputs": [
    {
     "name": "stdout",
     "output_type": "stream",
     "text": [
      "R2_Score 0.7438351331140518\n"
     ]
    }
   ],
   "source": [
    "r2s = r2_score(y_test,y_pred)\n",
    "print('R2_Score',r2s)"
   ]
  },
  {
   "cell_type": "markdown",
   "id": "0deee78c",
   "metadata": {},
   "source": [
    "### Actual vs Model predicted"
   ]
  },
  {
   "cell_type": "code",
   "execution_count": 126,
   "id": "f0b45f85",
   "metadata": {},
   "outputs": [
    {
     "data": {
      "image/png": "[encoded data removed]",
      "text/plain": [
       "<Figure size 640x480 with 1 Axes>"
      ]
     },
     "metadata": {},
     "output_type": "display_data"
    }
   ],
   "source": [
    "plt.scatter(y_test, y_pred) \n",
    "plt.xlabel('Testing Data') \n",
    "plt.ylabel('Predicted Data') \n",
    "plt. title('Actual vs Model predicted') \n",
    "plt.show()"
   ]
  },
  {
   "cell_type": "markdown",
   "id": "2cba15e1",
   "metadata": {},
   "source": [
    "### Cross - validation"
   ]
  },
  {
   "cell_type": "code",
   "execution_count": 127,
   "id": "8e377f6e",
   "metadata": {},
   "outputs": [],
   "source": [
    "from sklearn.model_selection import KFold, cross_val_score"
   ]
  },
  {
   "cell_type": "code",
   "execution_count": 128,
   "id": "bec34c9a",
   "metadata": {},
   "outputs": [
    {
     "data": {
      "text/plain": [
       "array([0.80559206, 0.65345432, 0.73297945, 0.76687512, 0.75941179])"
      ]
     },
     "execution_count": 128,
     "metadata": {},
     "output_type": "execute_result"
    }
   ],
   "source": [
    "c11=cross_val_score (reg_lasso, x_train, y_train, cv=5)\n",
    "c11"
   ]
  },
  {
   "cell_type": "code",
   "execution_count": 129,
   "id": "23aa84e3",
   "metadata": {},
   "outputs": [
    {
     "data": {
      "text/plain": [
       "0.7436625484938441"
      ]
     },
     "execution_count": 129,
     "metadata": {},
     "output_type": "execute_result"
    }
   ],
   "source": [
    "c11.mean()"
   ]
  },
  {
   "cell_type": "code",
   "execution_count": 130,
   "id": "9b2eca7b",
   "metadata": {},
   "outputs": [
    {
     "data": {
      "text/plain": [
       "array([0.78769625, 0.75718061, 0.60701357, 0.80809182, 0.68601904])"
      ]
     },
     "execution_count": 130,
     "metadata": {},
     "output_type": "execute_result"
    }
   ],
   "source": [
    "c12=cross_val_score(reg_lasso, x_test, y_test, cv=5)\n",
    "c12"
   ]
  },
  {
   "cell_type": "code",
   "execution_count": 131,
   "id": "9c22af3c",
   "metadata": {},
   "outputs": [
    {
     "data": {
      "text/plain": [
       "0.7292002578986034"
      ]
     },
     "execution_count": 131,
     "metadata": {},
     "output_type": "execute_result"
    }
   ],
   "source": [
    "c12.mean()"
   ]
  },
  {
   "cell_type": "markdown",
   "id": "005313f8",
   "metadata": {},
   "source": [
    "# "
   ]
  },
  {
   "cell_type": "markdown",
   "id": "809dc826",
   "metadata": {},
   "source": [
    "# "
   ]
  },
  {
   "cell_type": "markdown",
   "id": "58f38d60",
   "metadata": {},
   "source": [
    "## Ridge Regression Regularization"
   ]
  },
  {
   "cell_type": "code",
   "execution_count": 132,
   "id": "d08235e6",
   "metadata": {},
   "outputs": [],
   "source": [
    "from sklearn.linear_model import Ridge, RidgeCV"
   ]
  },
  {
   "cell_type": "code",
   "execution_count": 133,
   "id": "a497ba8d",
   "metadata": {},
   "outputs": [
    {
     "data": {
      "text/plain": [
       "RidgeCV(alphas=array([ 1, 11, 21, 31, 41, 51, 61, 71, 81, 91]), normalize=True)"
      ]
     },
     "execution_count": 133,
     "metadata": {},
     "output_type": "execute_result"
    }
   ],
   "source": [
    "ridgecv = RidgeCV(alphas = np.arange(1,100,10), normalize = True)\n",
    "ridgecv.fit(x_train, y_train)"
   ]
  },
  {
   "cell_type": "code",
   "execution_count": 134,
   "id": "f402bbbe",
   "metadata": {},
   "outputs": [
    {
     "data": {
      "text/plain": [
       "1"
      ]
     },
     "execution_count": 134,
     "metadata": {},
     "output_type": "execute_result"
    }
   ],
   "source": [
    "alpha = ridgecv.alpha_\n",
    "alpha"
   ]
  },
  {
   "cell_type": "code",
   "execution_count": 135,
   "id": "880de5ef",
   "metadata": {},
   "outputs": [
    {
     "data": {
      "text/plain": [
       "Ridge(alpha=1)"
      ]
     },
     "execution_count": 135,
     "metadata": {},
     "output_type": "execute_result"
    }
   ],
   "source": [
    "reg_rid = Ridge(alpha=ridgecv.alpha_)           # Passing Learning rate/speed to Ridge\n",
    "reg_rid.fit(x_train, y_train)"
   ]
  },
  {
   "cell_type": "markdown",
   "id": "31810dd1",
   "metadata": {},
   "source": [
    "### Checking Accuracy Score"
   ]
  },
  {
   "cell_type": "code",
   "execution_count": 136,
   "id": "9fbda978",
   "metadata": {},
   "outputs": [
    {
     "name": "stdout",
     "output_type": "stream",
     "text": [
      "Accuracy Score: 0.7517500213005067\n"
     ]
    }
   ],
   "source": [
    "print('Accuracy Score:',reg_rid.score(x_train,y_train))"
   ]
  },
  {
   "cell_type": "markdown",
   "id": "0a9830f9",
   "metadata": {},
   "source": [
    "### Printing the Predicted Values"
   ]
  },
  {
   "cell_type": "code",
   "execution_count": 137,
   "id": "c1958e78",
   "metadata": {
    "scrolled": true
   },
   "outputs": [
    {
     "name": "stdout",
     "output_type": "stream",
     "text": [
      "[ 5074.73829333  9475.29037236 11394.97182289 26345.60188147\n",
      "  6939.77307241   748.17842177  1787.02307941 -1119.22809161\n",
      "  1941.6402879  14232.06099611  9767.85825552 27088.55838543\n",
      " 14357.57850137  9360.79524045  5336.40885972 10007.53925497\n",
      "  5953.3656387   6124.03662599  4790.62363937 14632.37962625\n",
      "  2508.92714045 12045.07134221  2091.82246571  4400.28134151\n",
      "  4246.9242324   9056.84418624  1494.94468642 12267.49485551\n",
      "  3983.90985571 30074.0257856   8931.2170287  38961.15183022\n",
      "  8612.38581821 12972.72529366 25394.20924402 15547.81291944\n",
      " 12409.82065765 30489.39078774  6936.42051322  3186.33849848\n",
      " 27524.90693174  4190.14739002  5630.96202724 39271.21059542\n",
      " 28072.58461227 11772.96447435 10710.88387589  9835.16982563\n",
      " 13119.03509092  7063.2489078  33878.2893693   5206.48411969\n",
      " 32828.50172611 33123.57989108 15475.29460665  3926.52568074\n",
      "  5483.94122488  9256.24093355 11672.46646129 37922.92684049\n",
      " 10162.66942642 24274.43353146  5763.38379409 15528.64584763\n",
      "  5940.75989976  7968.57946861  -905.04943637 32385.95247496\n",
      "  1345.32060494 10106.05586066 35433.65707764  4048.52082323\n",
      "  8691.31872449 15163.40161958 10950.47758828 12416.9465471\n",
      "  6231.11315758  9655.53780561  3497.13218596  5527.84113276\n",
      " 11814.32082188  4187.00284267  5163.25151605  8864.84229175\n",
      " 34920.97780964 29478.43670354 36071.41175243  4805.91636661\n",
      " 11465.53511581 30159.76673104  9940.66990278  6370.44454998\n",
      " 25844.88809886  9005.1810827   8254.65042488  7273.20412209\n",
      "  9917.53146031  2864.30653478  7486.23700918 14125.69903926\n",
      " 13078.23356268 36572.02481811  6420.1660683  31763.00583086\n",
      "  9870.32194889  8011.23794976  7959.33823826  6388.47633617\n",
      " 14172.66743996 36728.01904698 15148.3418112  10335.56927738\n",
      "  9972.71334526 27018.03447027  1556.18331278  6614.04266521\n",
      "  7701.68753529  8510.45254646 14133.52774023 11817.95992427\n",
      " 35393.13851298  9294.35979661 10831.64751859  5834.8069425\n",
      "  7774.58255246  9341.25854681 33193.17608807 31837.60859125\n",
      " 38878.81706179  9822.80629847 14571.46507629  3754.95435741\n",
      "  5880.62599715  3573.0878699   5611.58953163 29773.32829875\n",
      " 30262.44311693  7517.55169705 32871.94067496  9355.67625708\n",
      " 13900.1293185  10835.20273216   607.60560916 12562.80179935\n",
      "  5488.70143476  8690.65344445  6069.24753655  2626.14358006\n",
      " 13576.92372403 13116.10681398  9421.35533656 31897.8887562\n",
      "  1576.84265935  7146.5892285   6305.41022335 11470.69964632\n",
      "  8888.72477151  2422.06544683 33736.72967707 12223.32357415\n",
      "  7721.30564092 11041.46960781 11497.26497092  9016.48025371\n",
      "  5565.56966888  7435.32492079 23325.71912487   478.40512272\n",
      "  5647.04717159  3841.7564452   6652.77151734 26649.43583675\n",
      "  9783.34500089  5368.41816897  5469.33695136  6885.25369806\n",
      " 12297.57878534  5673.61249618 38243.47121012  6510.06265872\n",
      " 12899.78639597  7899.27829927 13267.80456142   276.1757488\n",
      "  5511.79894579  9511.47924203 14780.37387184  1825.08572835\n",
      " 31215.54516249 13850.99258311 35195.82189189  4998.77212685\n",
      "  6647.84451966 31660.91378352 27907.03544448  1919.27695565\n",
      "  8489.06259899  9925.85120513  4175.03827868 38517.23097461\n",
      " 12875.51913291  9165.04072253 13346.69745766 29010.73778245\n",
      " 33291.69856232  7892.88375421  4225.44515159  8978.73101248\n",
      "  8037.80777538 24795.54514391  9929.97547632 39708.23784989\n",
      " 32368.91521652  3949.18898432  7463.99786667  5434.53126974\n",
      "  8038.97148095  4668.33992774 12908.55654407 34327.34419183\n",
      " 11083.5967442   7448.3415056   7288.01665208 10574.14325589\n",
      " 10478.48108297 16157.01514073 14623.58105821 10011.67356257\n",
      " 11036.896327    2546.95952664  6362.04697105 38433.59857359\n",
      " 11442.12401741 39896.70954905 25549.3211872   4166.00863805\n",
      " 12354.15747437 28616.763473    1596.30088834 36784.80840261\n",
      "  1881.90010395  7222.97985687 10434.91978895 17900.22496163\n",
      "  4039.09266381 12171.1263599  13549.86366475  3894.10626912\n",
      "  8441.8674471   8025.23506861  1192.24664079 38220.20130746\n",
      "  8642.80091352 11109.55207972  7443.29648586   807.94794707\n",
      " 29940.81830653  2621.99878342  5177.02361531  2725.52885714\n",
      "  7252.20825085 29142.54321465 38183.60868273  3865.3709432\n",
      "  8147.68574769  1940.49451975 34384.66894062 14365.31962268\n",
      " 30859.3960821   3470.11416091 31011.87861862 11063.71077453\n",
      " 11411.78923303  4208.09004937 32481.0349233  33581.45601096\n",
      "  8567.1186355   8198.3173476   4380.7097027  28921.77721673\n",
      " 14697.19417129 16620.29246579  9230.3989394  10851.2878765\n",
      " 10435.62444847  5219.62385814  8835.00656345  9588.27443567\n",
      "  5764.49202903 13108.56834705   900.55130601 39719.8326124\n",
      "  9725.83139168 15547.18056037  2650.37157831 13148.48326822\n",
      " 27365.7332688   9556.51148167  6513.86256091 11418.57380592\n",
      "  2952.72398599 15193.62132923  7259.60274609 26604.81277634\n",
      "  3435.77929507  3495.7105433   4969.5794198   5776.16284606\n",
      " 12218.32151179  6972.56025958 31670.37312883 28170.63490321\n",
      " 24591.35902503  7477.18049579  7117.35016582 13603.522891\n",
      "  8264.06883875  4124.56563401 29642.94451094  8257.4270153\n",
      "  6237.02420048  6311.27941167  -846.59172353 10434.30271081\n",
      "  8874.34009341  9677.22784561 38464.30050297  5236.73150406\n",
      " 28203.59909424  3878.22580509 11064.97722122 10810.85054419\n",
      " 10680.13190007 31815.53191515 16645.02246746]\n"
     ]
    }
   ],
   "source": [
    "y_pred = reg_rid.predict(x_test)\n",
    "print(y_pred)"
   ]
  },
  {
   "cell_type": "markdown",
   "id": "4a9c37f5",
   "metadata": {},
   "source": [
    "### Checking accuracy on Testing data"
   ]
  },
  {
   "cell_type": "code",
   "execution_count": 138,
   "id": "3188da25",
   "metadata": {},
   "outputs": [
    {
     "data": {
      "text/plain": [
       "0.7438196397525192"
      ]
     },
     "execution_count": 138,
     "metadata": {},
     "output_type": "execute_result"
    }
   ],
   "source": [
    "reg_rid.score(x_test,y_test)"
   ]
  },
  {
   "cell_type": "markdown",
   "id": "ca164969",
   "metadata": {},
   "source": [
    "### Checking Error Score"
   ]
  },
  {
   "cell_type": "code",
   "execution_count": 139,
   "id": "01221b19",
   "metadata": {},
   "outputs": [
    {
     "name": "stdout",
     "output_type": "stream",
     "text": [
      "MSE 40869090.27409966\n",
      "RMSE 6392.893732426628\n",
      "MAE 4378.59579044231\n"
     ]
    }
   ],
   "source": [
    "mse = mean_squared_error(y_test,y_pred)\n",
    "print('MSE',mse)\n",
    "\n",
    "rmse = np.sqrt(mean_squared_error(y_test,y_pred))\n",
    "print('RMSE',rmse)\n",
    "\n",
    "mae = mean_absolute_error(y_test,y_pred)\n",
    "print('MAE',mae)"
   ]
  },
  {
   "cell_type": "markdown",
   "id": "d6c1cb75",
   "metadata": {},
   "source": [
    "### Checking R2_Score"
   ]
  },
  {
   "cell_type": "code",
   "execution_count": 140,
   "id": "0c97bb08",
   "metadata": {},
   "outputs": [
    {
     "name": "stdout",
     "output_type": "stream",
     "text": [
      "R2_Score 0.7438196397525192\n"
     ]
    }
   ],
   "source": [
    "r2s = r2_score(y_test,y_pred)\n",
    "print('R2_Score',r2s)"
   ]
  },
  {
   "cell_type": "markdown",
   "id": "212732b1",
   "metadata": {},
   "source": [
    "### Actual vs Model predicted"
   ]
  },
  {
   "cell_type": "code",
   "execution_count": 141,
   "id": "1e483c34",
   "metadata": {},
   "outputs": [
    {
     "data": {
      "image/png": "[encoded data removed]",
      "text/plain": [
       "<Figure size 640x480 with 1 Axes>"
      ]
     },
     "metadata": {},
     "output_type": "display_data"
    }
   ],
   "source": [
    "plt.scatter(y_test, y_pred) \n",
    "plt.xlabel('Testing Data') \n",
    "plt.ylabel('Predicted Data') \n",
    "plt. title('Actual vs Model predicted') \n",
    "plt.show()"
   ]
  },
  {
   "cell_type": "markdown",
   "id": "232c97d8",
   "metadata": {},
   "source": [
    "### Cross - validation"
   ]
  },
  {
   "cell_type": "code",
   "execution_count": 142,
   "id": "332eb771",
   "metadata": {},
   "outputs": [],
   "source": [
    "from sklearn.model_selection import KFold, cross_val_score"
   ]
  },
  {
   "cell_type": "code",
   "execution_count": 143,
   "id": "8794cc56",
   "metadata": {},
   "outputs": [
    {
     "data": {
      "text/plain": [
       "array([0.80548081, 0.65371221, 0.73294644, 0.76691954, 0.7592754 ])"
      ]
     },
     "execution_count": 143,
     "metadata": {},
     "output_type": "execute_result"
    }
   ],
   "source": [
    "c13=cross_val_score (reg_rid, x_train, y_train, cv=5)\n",
    "c13"
   ]
  },
  {
   "cell_type": "code",
   "execution_count": 144,
   "id": "849f5bf5",
   "metadata": {},
   "outputs": [
    {
     "data": {
      "text/plain": [
       "0.743666879502345"
      ]
     },
     "execution_count": 144,
     "metadata": {},
     "output_type": "execute_result"
    }
   ],
   "source": [
    "c13.mean()"
   ]
  },
  {
   "cell_type": "code",
   "execution_count": 145,
   "id": "f4256870",
   "metadata": {},
   "outputs": [
    {
     "data": {
      "text/plain": [
       "array([0.78709729, 0.75689096, 0.60797558, 0.80781832, 0.68649253])"
      ]
     },
     "execution_count": 145,
     "metadata": {},
     "output_type": "execute_result"
    }
   ],
   "source": [
    "c14=cross_val_score(reg_rid, x_test, y_test, cv=5)\n",
    "c14"
   ]
  },
  {
   "cell_type": "code",
   "execution_count": 146,
   "id": "252a7996",
   "metadata": {},
   "outputs": [
    {
     "data": {
      "text/plain": [
       "0.7292549378491057"
      ]
     },
     "execution_count": 146,
     "metadata": {},
     "output_type": "execute_result"
    }
   ],
   "source": [
    "c14.mean()"
   ]
  },
  {
   "cell_type": "markdown",
   "id": "09ddad09",
   "metadata": {},
   "source": [
    "# "
   ]
  },
  {
   "cell_type": "markdown",
   "id": "b0fb80e8",
   "metadata": {},
   "source": [
    "# "
   ]
  },
  {
   "cell_type": "markdown",
   "id": "26146196",
   "metadata": {},
   "source": [
    "## Saving the Top 3 Best Models"
   ]
  },
  {
   "cell_type": "code",
   "execution_count": 147,
   "id": "227557e9",
   "metadata": {},
   "outputs": [],
   "source": [
    "import pickle "
   ]
  },
  {
   "cell_type": "code",
   "execution_count": 148,
   "id": "191f3968",
   "metadata": {},
   "outputs": [],
   "source": [
    "with open('reg_KN', 'wb') as f: \n",
    "    pickle.dump(reg_KN, f)"
   ]
  },
  {
   "cell_type": "code",
   "execution_count": 149,
   "id": "f65c6bb1",
   "metadata": {},
   "outputs": [],
   "source": [
    "with open('reg_rf', 'wb') as f: \n",
    "    pickle.dump(reg_rf, f)"
   ]
  },
  {
   "cell_type": "code",
   "execution_count": 150,
   "id": "9abcf0a6",
   "metadata": {},
   "outputs": [],
   "source": [
    "with open('reg_SVR', 'wb') as f: \n",
    "    pickle.dump(reg_SVR, f)"
   ]
  },
  {
   "cell_type": "markdown",
   "id": "dba4a748",
   "metadata": {},
   "source": [
    "# "
   ]
  },
  {
   "cell_type": "markdown",
   "id": "5cdb9727",
   "metadata": {},
   "source": [
    "## Opening the Saved Models "
   ]
  },
  {
   "cell_type": "code",
   "execution_count": 151,
   "id": "1e1ccc46",
   "metadata": {},
   "outputs": [],
   "source": [
    "with open('reg_KN', 'rb') as f:\n",
    "    l1 = pickle.load(f)"
   ]
  },
  {
   "cell_type": "code",
   "execution_count": 152,
   "id": "58687588",
   "metadata": {},
   "outputs": [],
   "source": [
    "with open('reg_rf', 'rb') as f:\n",
    "    l2 = pickle.load(f)"
   ]
  },
  {
   "cell_type": "code",
   "execution_count": 153,
   "id": "860a3795",
   "metadata": {},
   "outputs": [],
   "source": [
    "with open('reg_SVR', 'rb') as f:\n",
    "    l3 = pickle.load(f)"
   ]
  },
  {
   "cell_type": "markdown",
   "id": "3d7cd534",
   "metadata": {},
   "source": [
    "# "
   ]
  },
  {
   "cell_type": "markdown",
   "id": "b02b5b73",
   "metadata": {},
   "source": [
    "## Prediction"
   ]
  },
  {
   "cell_type": "code",
   "execution_count": 154,
   "id": "01883f3e",
   "metadata": {},
   "outputs": [
    {
     "data": {
      "text/plain": [
       "array([22531.43709])"
      ]
     },
     "execution_count": 154,
     "metadata": {},
     "output_type": "execute_result"
    }
   ],
   "source": [
    "l1.predict(scaler.transform([[19,0,27.900,0,1,3]]))"
   ]
  },
  {
   "cell_type": "code",
   "execution_count": 155,
   "id": "b7f1f0d5",
   "metadata": {},
   "outputs": [
    {
     "data": {
      "text/plain": [
       "array([17316.40137786])"
      ]
     },
     "execution_count": 155,
     "metadata": {},
     "output_type": "execute_result"
    }
   ],
   "source": [
    "l2.predict(scaler.transform([[19,0,27.900,0,1,3]]))"
   ]
  },
  {
   "cell_type": "code",
   "execution_count": 156,
   "id": "c8186263",
   "metadata": {},
   "outputs": [
    {
     "data": {
      "text/plain": [
       "array([18959.06940477])"
      ]
     },
     "execution_count": 156,
     "metadata": {},
     "output_type": "execute_result"
    }
   ],
   "source": [
    "l3.predict(scaler.transform([[19,0,27.900,0,1,3]]))"
   ]
  },
  {
   "cell_type": "markdown",
   "id": "4c0c0174",
   "metadata": {},
   "source": [
    "# "
   ]
  },
  {
   "cell_type": "markdown",
   "id": "28d0b102",
   "metadata": {},
   "source": [
    "# "
   ]
  }
 ],
 "metadata": {
  "kernelspec": {
   "display_name": "Python 3 (ipykernel)",
   "language": "python",
   "name": "python3"
  },
  "language_info": {
   "codemirror_mode": {
    "name": "ipython",
    "version": 3
   },
   "file_extension": ".py",
   "mimetype": "text/x-python",
   "name": "python",
   "nbconvert_exporter": "python",
   "pygments_lexer": "ipython3",
   "version": "3.9.13"
  }
 },
 "nbformat": 4,
 "nbformat_minor": 5
}
